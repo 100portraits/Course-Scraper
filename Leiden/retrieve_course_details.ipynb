{
 "cells": [
  {
   "cell_type": "code",
   "execution_count": 1,
   "metadata": {},
   "outputs": [],
   "source": [
    "import requests\n",
    "from tqdm.notebook import tqdm\n",
    "p = requests.get('https://api.proxyscrape.com/v2/?request=displayproxies&protocol=http&timeout=10000&country=all&ssl=all&anonymity=all')\n",
    "proxies = p.text\n",
    "proxies = proxies.split('\\n')\n",
    "proxies = [p.replace('\\r', '') for p in proxies]\n",
    "proxies = [p for p in proxies if p != '']\n",
    "\n",
    "from itertools import cycle\n",
    "proxy_pool = cycle(proxies)\n",
    "proxy = next(proxy_pool)"
   ]
  },
  {
   "cell_type": "code",
   "execution_count": 2,
   "metadata": {},
   "outputs": [],
   "source": [
    "import requests\n",
    "from bs4 import BeautifulSoup\n",
    "import pandas as pd\n",
    "from tqdm.notebook import tqdm \n",
    "\n",
    "\n",
    "#load course IDs\n",
    "course_ids = pd.read_csv('data/course_IDs.csv')\n",
    "course_ids = course_ids['course_ID'].tolist()\n",
    "course_ids = [str(i) for i in course_ids]\n",
    "\n"
   ]
  },
  {
   "cell_type": "code",
   "execution_count": 3,
   "metadata": {},
   "outputs": [],
   "source": [
    "TESTING = False\n",
    "\n",
    "import random\n",
    "random.seed(123)\n",
    "course_ids_test = random.sample(course_ids, 200)\n",
    "\n"
   ]
  },
  {
   "cell_type": "code",
   "execution_count": 4,
   "metadata": {},
   "outputs": [],
   "source": [
    "def get_details(soup, url):\n",
    "    # get the course name\n",
    "    title_article = soup.find('article', class_='content')\n",
    "    year = soup.find('div', class_='edition').text.strip()\n",
    "    \n",
    "    course_title = soup.find('h1').text.strip()\n",
    "\n",
    "    try:\n",
    "        language = soup.find('dt', string='Language')\n",
    "        language = language.find_next_sibling().text.strip()\n",
    "    except:\n",
    "        language = 'None'\n",
    "    \n",
    "    try:\n",
    "        college = soup.find('dt', string='Faculty')\n",
    "        college = college.find_next_sibling().text.strip()\n",
    "    except:\n",
    "        college = 'None'\n",
    "\n",
    "    try:\n",
    "        lecturers = soup.find('dt', string={'Teacher', 'Teachers'})\n",
    "        lecturers = lecturers.find_next_sibling().text.strip()\n",
    "        lecturers = lecturers.split('\\n')\n",
    "    except:\n",
    "        lecturers = 'None'\n",
    "\n",
    "    try:\n",
    "        lecturers_urls = soup.find('dt', string={'Teacher', 'Teachers'})\n",
    "        lecturers_urls_container = lecturers_urls.find_next_sibling()\n",
    "        lecturers_urls = lecturers_urls_container.find_all('a')\n",
    "        #get links\n",
    "        if len(lecturers_urls) == 0:\n",
    "            lecturers_urls = 'None'\n",
    "        else:\n",
    "            lecturers_urls = [i['href'] for i in lecturers_urls]\n",
    "    except:\n",
    "        lecturers_urls = 'None'\n",
    "\n",
    "    try:\n",
    "        programmes_prev = soup.find('h2', string='Part of')\n",
    "        programmes_container = programmes_prev.find_next_sibling('ul')\n",
    "        programmes = programmes_container.find_all('a')\n",
    "        #get links\n",
    "        programmes = [i['href'] for i in programmes]\n",
    "    except:\n",
    "        programmes = 'None'\n",
    "\n",
    "    try:\n",
    "        text_container = soup.find('div', class_='wrapper main clearfix')\n",
    "        text = text_container.find('article', class_='content').text.strip()\n",
    "    except:\n",
    "        text = 'None'\n",
    "\n",
    "    #create dictionary from course details\n",
    "    course_details = {\n",
    "        'url': url,\n",
    "        'year': year,\n",
    "        'course_title': course_title,\n",
    "        'language': language,\n",
    "        'college': college,\n",
    "        'lecturers_urls': lecturers_urls,\n",
    "        'lecturers': lecturers,\n",
    "        'programmes': programmes,\n",
    "        'text': text\n",
    "    }\n",
    "\n",
    "    return course_details"
   ]
  },
  {
   "cell_type": "code",
   "execution_count": 7,
   "metadata": {},
   "outputs": [
    {
     "data": {
      "application/vnd.jupyter.widget-view+json": {
       "model_id": "eb3d16974fa6485cb8e27be57d721555",
       "version_major": 2,
       "version_minor": 0
      },
      "text/plain": [
       "  0%|          | 0/101 [00:00<?, ?it/s]"
      ]
     },
     "metadata": {},
     "output_type": "display_data"
    },
    {
     "data": {
      "application/vnd.jupyter.widget-view+json": {
       "model_id": "844e3efdd4ee470484e58dcd70bdbce2",
       "version_major": 2,
       "version_minor": 0
      },
      "text/plain": [
       "  0%|          | 0/578 [00:00<?, ?it/s]"
      ]
     },
     "metadata": {},
     "output_type": "display_data"
    },
    {
     "data": {
      "application/vnd.jupyter.widget-view+json": {
       "model_id": "1c161711c93641e494efe8ef5d7d370c",
       "version_major": 2,
       "version_minor": 0
      },
      "text/plain": [
       "  0%|          | 0/578 [00:00<?, ?it/s]"
      ]
     },
     "metadata": {},
     "output_type": "display_data"
    },
    {
     "data": {
      "application/vnd.jupyter.widget-view+json": {
       "model_id": "42d227e05434432eb057d9b152a71726",
       "version_major": 2,
       "version_minor": 0
      },
      "text/plain": [
       "  0%|          | 0/578 [00:00<?, ?it/s]"
      ]
     },
     "metadata": {},
     "output_type": "display_data"
    },
    {
     "data": {
      "application/vnd.jupyter.widget-view+json": {
       "model_id": "e9a3e6a728ba44f9bcce73586d5abd5f",
       "version_major": 2,
       "version_minor": 0
      },
      "text/plain": [
       "  0%|          | 0/578 [00:00<?, ?it/s]"
      ]
     },
     "metadata": {},
     "output_type": "display_data"
    },
    {
     "name": "stdout",
     "output_type": "stream",
     "text": [
      "https://studiegids.universiteitleiden.nl/en/courses/120012\n"
     ]
    },
    {
     "data": {
      "application/vnd.jupyter.widget-view+json": {
       "model_id": "a3eef08674b74fd9a063d57e890636df",
       "version_major": 2,
       "version_minor": 0
      },
      "text/plain": [
       "  0%|          | 0/578 [00:00<?, ?it/s]"
      ]
     },
     "metadata": {},
     "output_type": "display_data"
    },
    {
     "name": "stdout",
     "output_type": "stream",
     "text": [
      "https://studiegids.universiteitleiden.nl/en/courses/116736\n"
     ]
    },
    {
     "data": {
      "application/vnd.jupyter.widget-view+json": {
       "model_id": "7f7497712f4544b5a3cfc3a7ac27cc9a",
       "version_major": 2,
       "version_minor": 0
      },
      "text/plain": [
       "  0%|          | 0/578 [00:00<?, ?it/s]"
      ]
     },
     "metadata": {},
     "output_type": "display_data"
    },
    {
     "data": {
      "application/vnd.jupyter.widget-view+json": {
       "model_id": "f5bb9167f1b0424b94fc5de198658a65",
       "version_major": 2,
       "version_minor": 0
      },
      "text/plain": [
       "  0%|          | 0/578 [00:00<?, ?it/s]"
      ]
     },
     "metadata": {},
     "output_type": "display_data"
    },
    {
     "data": {
      "application/vnd.jupyter.widget-view+json": {
       "model_id": "0747d5d03afb4cc481b517900100391b",
       "version_major": 2,
       "version_minor": 0
      },
      "text/plain": [
       "  0%|          | 0/578 [00:00<?, ?it/s]"
      ]
     },
     "metadata": {},
     "output_type": "display_data"
    },
    {
     "data": {
      "application/vnd.jupyter.widget-view+json": {
       "model_id": "346146e1094e4312a890b923a51447cc",
       "version_major": 2,
       "version_minor": 0
      },
      "text/plain": [
       "  0%|          | 0/578 [00:00<?, ?it/s]"
      ]
     },
     "metadata": {},
     "output_type": "display_data"
    },
    {
     "data": {
      "application/vnd.jupyter.widget-view+json": {
       "model_id": "315ff0eba95b45389ac03dab002f675c",
       "version_major": 2,
       "version_minor": 0
      },
      "text/plain": [
       "  0%|          | 0/73 [00:00<?, ?it/s]"
      ]
     },
     "metadata": {},
     "output_type": "display_data"
    }
   ],
   "source": [
    "url = 'https://studiegids.universiteitleiden.nl/en/courses/'\n",
    "import concurrent.futures\n",
    "\n",
    "\n",
    "num_chunks = 100\n",
    "chunk_size = len(course_ids) // num_chunks\n",
    "course_ids_chunks = [course_ids[i:i+chunk_size] for i in range(0, len(course_ids), chunk_size)]\n",
    "\n",
    "#check that all course IDs are in the chunks\n",
    "assert sum([len(i) for i in course_ids_chunks]) == len(course_ids)\n",
    "\n",
    "\n",
    "\n",
    "# loop over the course IDs while rotating proxies\n",
    "\n",
    "def process_course(url_new):\n",
    "    import time\n",
    "    response = None\n",
    "    while response is None:\n",
    "        try:\n",
    "            time.sleep(1)\n",
    "            proxy = next(proxy_pool)\n",
    "            response = requests.get(url_new, proxies={'http': 'http://'+proxy}, timeout=10)\n",
    "        except:\n",
    "            #print the url that failed and add it to the list of failed urls\n",
    "            print(url_new)\n",
    "            with open('failed_urls.txt', 'a') as f:\n",
    "                f.write(url_new+'\\n')\n",
    "            return None\n",
    "            \n",
    "    soup = BeautifulSoup(response.text, 'html.parser')\n",
    "    course_details = get_details(soup, url_new)\n",
    "    return course_details\n",
    "\n",
    "\n",
    "details = []\n",
    "for i in tqdm(range(len(course_ids_chunks))):\n",
    "    #if the file already exists then skip iteration\n",
    "    try:\n",
    "        pd.read_csv(f'data/chunks/course_details_{i}.csv')\n",
    "        continue\n",
    "    except:\n",
    "        pass\n",
    "    for j in tqdm(range(len(course_ids_chunks[i]))):\n",
    "        url_new = url + course_ids_chunks[i][j]\n",
    "        try:\n",
    "            result = process_course(url_new)\n",
    "        except:\n",
    "            result = None\n",
    "        if result is not None:\n",
    "            details.append(result)\n",
    "\n",
    "\n",
    "    chunk_details_df = pd.DataFrame(details)\n",
    "    chunk_details_df.to_csv(f'data/chunks/course_details_{i}.csv', index=False)\n",
    "\n"
   ]
  },
  {
   "cell_type": "code",
   "execution_count": 12,
   "metadata": {},
   "outputs": [
    {
     "name": "stdout",
     "output_type": "stream",
     "text": [
      "30\n"
     ]
    },
    {
     "data": {
      "application/vnd.jupyter.widget-view+json": {
       "model_id": "fc02a2a1b80b4774a6c1f378995e6d57",
       "version_major": 2,
       "version_minor": 0
      },
      "text/plain": [
       "  0%|          | 0/30 [00:00<?, ?it/s]"
      ]
     },
     "metadata": {},
     "output_type": "display_data"
    },
    {
     "name": "stdout",
     "output_type": "stream",
     "text": [
      "https://studiegids.universiteitleiden.nl/en/courses/62447\n"
     ]
    }
   ],
   "source": [
    "#now let's get all the failed urls\n",
    "failed_urls = []\n",
    "with open('failed_urls.txt', 'r') as f:\n",
    "    for line in f:\n",
    "        failed_urls.append(line.strip())\n",
    "\n",
    "print(len(failed_urls))\n",
    "\n",
    "#and scrape them\n",
    "failed_details = []\n",
    "for i in tqdm(range(len(failed_urls))):\n",
    "    url_new = failed_urls[i]\n",
    "    try:\n",
    "        result = process_course(url_new)\n",
    "    except:\n",
    "        result = None\n",
    "    if result is not None:\n",
    "        failed_details.append(result)\n",
    "\n",
    "failed_details_df = pd.DataFrame(failed_details)\n",
    "failed_details_df.to_csv('data/failed.csv', index=False)"
   ]
  }
 ],
 "metadata": {
  "kernelspec": {
   "display_name": "base",
   "language": "python",
   "name": "python3"
  },
  "language_info": {
   "codemirror_mode": {
    "name": "ipython",
    "version": 3
   },
   "file_extension": ".py",
   "mimetype": "text/x-python",
   "name": "python",
   "nbconvert_exporter": "python",
   "pygments_lexer": "ipython3",
   "version": "3.9.12"
  }
 },
 "nbformat": 4,
 "nbformat_minor": 2
}
