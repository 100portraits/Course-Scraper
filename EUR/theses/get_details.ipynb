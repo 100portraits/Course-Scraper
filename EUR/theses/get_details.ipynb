{
 "cells": [
  {
   "cell_type": "code",
   "execution_count": 37,
   "metadata": {},
   "outputs": [],
   "source": [
    "import requests\n",
    "from bs4 import BeautifulSoup\n",
    "import re\n",
    "\n",
    "def get_details(link):\n",
    "    r = requests.get(link)\n",
    "    soup = BeautifulSoup(r.text, 'html.parser')\n",
    "    try:\n",
    "        title = soup.find('div', class_='page-header').h1.text.strip()\n",
    "    except:\n",
    "        title = None\n",
    "\n",
    "    try:\n",
    "        author = soup.find('p', class_='lead author-list pull-left').text.strip()\n",
    "    except:\n",
    "        author = None\n",
    "\n",
    "    try:\n",
    "        date = soup.find('p', class_='lead pub_type pull-right').text.strip()\n",
    "    except:\n",
    "        date = None\n",
    "\n",
    "    table = soup.find('table', class_='table')\n",
    "    try:\n",
    "        supervisor_label = table.find('span', string=re.compile('Thesis Advisor'))\n",
    "        supervisor = supervisor_label.parent.parent.findAll('td')[1].text.strip()\n",
    "        supervisor = supervisor.split('\\n')\n",
    "        supervisor = [s.replace(',', '') for s in supervisor]\n",
    "    except:\n",
    "        supervisor = None\n",
    "\n",
    "    \n",
    "    try:\n",
    "        faculty_label = table.find('td', string=re.compile('Organisation'))\n",
    "        faculty = faculty_label.findNext('td').text.strip()\n",
    "    except:\n",
    "        faculty = None\n",
    "\n",
    "    try:\n",
    "        abstract = soup.find('p', class_='abstract').text.strip()\n",
    "        \n",
    "    except:\n",
    "        abstract = None\n",
    "\n",
    "    try:\n",
    "        keywords_label = table.find('span', string=re.compile('Keyword'))\n",
    "        keywords = keywords_label.parent.parent.findAll('td')[1].text.strip()\n",
    "        keywords = keywords.split(',')\n",
    "        keywords = [k.strip() for k in keywords]\n",
    "    except:\n",
    "        keywords = None\n",
    "\n",
    "\n",
    "    #make dict\n",
    "    details = {\n",
    "        'title': title,\n",
    "        'author': author,\n",
    "        'date': date,\n",
    "        'supervisor': supervisor,\n",
    "        'faculty': faculty,\n",
    "        'abstract': abstract,\n",
    "        'keywords': keywords\n",
    "    }\n",
    "\n",
    "    return details"
   ]
  },
  {
   "cell_type": "code",
   "execution_count": 38,
   "metadata": {},
   "outputs": [
    {
     "data": {
      "text/plain": [
       "10793"
      ]
     },
     "execution_count": 38,
     "metadata": {},
     "output_type": "execute_result"
    }
   ],
   "source": [
    "#get ids from test.txt\n",
    "links = []\n",
    "with open('links.txt', 'r') as f:\n",
    "    for line in f:\n",
    "        links.append(line.strip())\n",
    "\n",
    "len(links)"
   ]
  },
  {
   "cell_type": "code",
   "execution_count": 39,
   "metadata": {},
   "outputs": [
    {
     "data": {
      "application/vnd.jupyter.widget-view+json": {
       "model_id": "0d23bc1946bc445f9f51818edff5bc10",
       "version_major": 2,
       "version_minor": 0
      },
      "text/plain": [
       "  0%|          | 0/22 [00:00<?, ?it/s]"
      ]
     },
     "metadata": {},
     "output_type": "display_data"
    },
    {
     "data": {
      "application/vnd.jupyter.widget-view+json": {
       "model_id": "0940890111054e999e48b2cc9ae9124c",
       "version_major": 2,
       "version_minor": 0
      },
      "text/plain": [
       "  0%|          | 0/500 [00:00<?, ?it/s]"
      ]
     },
     "metadata": {},
     "output_type": "display_data"
    },
    {
     "data": {
      "application/vnd.jupyter.widget-view+json": {
       "model_id": "27c480938a8449d0a19adcda6c0cbb33",
       "version_major": 2,
       "version_minor": 0
      },
      "text/plain": [
       "  0%|          | 0/500 [00:00<?, ?it/s]"
      ]
     },
     "metadata": {},
     "output_type": "display_data"
    },
    {
     "data": {
      "application/vnd.jupyter.widget-view+json": {
       "model_id": "413b0941266a470fa42bfd10e30c55ff",
       "version_major": 2,
       "version_minor": 0
      },
      "text/plain": [
       "  0%|          | 0/500 [00:00<?, ?it/s]"
      ]
     },
     "metadata": {},
     "output_type": "display_data"
    },
    {
     "data": {
      "application/vnd.jupyter.widget-view+json": {
       "model_id": "099d6e811a6d4dcb8e55d4ca0c6bd5a2",
       "version_major": 2,
       "version_minor": 0
      },
      "text/plain": [
       "  0%|          | 0/500 [00:00<?, ?it/s]"
      ]
     },
     "metadata": {},
     "output_type": "display_data"
    },
    {
     "data": {
      "application/vnd.jupyter.widget-view+json": {
       "model_id": "4735bfb33ce1430ea7b45ae11f8fac01",
       "version_major": 2,
       "version_minor": 0
      },
      "text/plain": [
       "  0%|          | 0/500 [00:00<?, ?it/s]"
      ]
     },
     "metadata": {},
     "output_type": "display_data"
    },
    {
     "data": {
      "application/vnd.jupyter.widget-view+json": {
       "model_id": "504cd40f8db94396bd649d0cbb9d00e1",
       "version_major": 2,
       "version_minor": 0
      },
      "text/plain": [
       "  0%|          | 0/500 [00:00<?, ?it/s]"
      ]
     },
     "metadata": {},
     "output_type": "display_data"
    },
    {
     "data": {
      "application/vnd.jupyter.widget-view+json": {
       "model_id": "657182f2e9e7414ba1f2edd038c820e4",
       "version_major": 2,
       "version_minor": 0
      },
      "text/plain": [
       "  0%|          | 0/500 [00:00<?, ?it/s]"
      ]
     },
     "metadata": {},
     "output_type": "display_data"
    },
    {
     "data": {
      "application/vnd.jupyter.widget-view+json": {
       "model_id": "77fcabf9d6f04d1baa56585cd94767e4",
       "version_major": 2,
       "version_minor": 0
      },
      "text/plain": [
       "  0%|          | 0/500 [00:00<?, ?it/s]"
      ]
     },
     "metadata": {},
     "output_type": "display_data"
    },
    {
     "data": {
      "application/vnd.jupyter.widget-view+json": {
       "model_id": "47f8779dd0444a9c8f49883f579fef09",
       "version_major": 2,
       "version_minor": 0
      },
      "text/plain": [
       "  0%|          | 0/500 [00:00<?, ?it/s]"
      ]
     },
     "metadata": {},
     "output_type": "display_data"
    },
    {
     "data": {
      "application/vnd.jupyter.widget-view+json": {
       "model_id": "b68a4d8c26484761b14f2f41433c134e",
       "version_major": 2,
       "version_minor": 0
      },
      "text/plain": [
       "  0%|          | 0/500 [00:00<?, ?it/s]"
      ]
     },
     "metadata": {},
     "output_type": "display_data"
    },
    {
     "data": {
      "application/vnd.jupyter.widget-view+json": {
       "model_id": "ac260d1c36a7484b8d9c5e6c4866a76b",
       "version_major": 2,
       "version_minor": 0
      },
      "text/plain": [
       "  0%|          | 0/500 [00:00<?, ?it/s]"
      ]
     },
     "metadata": {},
     "output_type": "display_data"
    },
    {
     "data": {
      "application/vnd.jupyter.widget-view+json": {
       "model_id": "e3de94c3f2bd46ec9facc20f2f217b87",
       "version_major": 2,
       "version_minor": 0
      },
      "text/plain": [
       "  0%|          | 0/500 [00:00<?, ?it/s]"
      ]
     },
     "metadata": {},
     "output_type": "display_data"
    },
    {
     "data": {
      "application/vnd.jupyter.widget-view+json": {
       "model_id": "05f934386f3d408cbb246d67318ae0e6",
       "version_major": 2,
       "version_minor": 0
      },
      "text/plain": [
       "  0%|          | 0/500 [00:00<?, ?it/s]"
      ]
     },
     "metadata": {},
     "output_type": "display_data"
    },
    {
     "data": {
      "application/vnd.jupyter.widget-view+json": {
       "model_id": "d1ab02124036408aa3aea28d6c0e1ac3",
       "version_major": 2,
       "version_minor": 0
      },
      "text/plain": [
       "  0%|          | 0/500 [00:00<?, ?it/s]"
      ]
     },
     "metadata": {},
     "output_type": "display_data"
    },
    {
     "data": {
      "application/vnd.jupyter.widget-view+json": {
       "model_id": "177dd026b64e4562b45ef52ccbb14633",
       "version_major": 2,
       "version_minor": 0
      },
      "text/plain": [
       "  0%|          | 0/500 [00:00<?, ?it/s]"
      ]
     },
     "metadata": {},
     "output_type": "display_data"
    },
    {
     "data": {
      "application/vnd.jupyter.widget-view+json": {
       "model_id": "f6669e5197b94b49935ab1fbf702a5e5",
       "version_major": 2,
       "version_minor": 0
      },
      "text/plain": [
       "  0%|          | 0/500 [00:00<?, ?it/s]"
      ]
     },
     "metadata": {},
     "output_type": "display_data"
    },
    {
     "data": {
      "application/vnd.jupyter.widget-view+json": {
       "model_id": "9975ea776c7c4201bdd17ebf06ac260b",
       "version_major": 2,
       "version_minor": 0
      },
      "text/plain": [
       "  0%|          | 0/500 [00:00<?, ?it/s]"
      ]
     },
     "metadata": {},
     "output_type": "display_data"
    },
    {
     "data": {
      "application/vnd.jupyter.widget-view+json": {
       "model_id": "9dd7e370aa5f44f8a19068287839ba5f",
       "version_major": 2,
       "version_minor": 0
      },
      "text/plain": [
       "  0%|          | 0/500 [00:00<?, ?it/s]"
      ]
     },
     "metadata": {},
     "output_type": "display_data"
    },
    {
     "data": {
      "application/vnd.jupyter.widget-view+json": {
       "model_id": "96a9e0088a0141eaa9efe17a497b3938",
       "version_major": 2,
       "version_minor": 0
      },
      "text/plain": [
       "  0%|          | 0/500 [00:00<?, ?it/s]"
      ]
     },
     "metadata": {},
     "output_type": "display_data"
    },
    {
     "data": {
      "application/vnd.jupyter.widget-view+json": {
       "model_id": "b7c2818cc8fd432c8df300fdbf182390",
       "version_major": 2,
       "version_minor": 0
      },
      "text/plain": [
       "  0%|          | 0/500 [00:00<?, ?it/s]"
      ]
     },
     "metadata": {},
     "output_type": "display_data"
    },
    {
     "data": {
      "application/vnd.jupyter.widget-view+json": {
       "model_id": "9c3ca7f7368f490eb928f2a3b6700289",
       "version_major": 2,
       "version_minor": 0
      },
      "text/plain": [
       "  0%|          | 0/500 [00:00<?, ?it/s]"
      ]
     },
     "metadata": {},
     "output_type": "display_data"
    },
    {
     "data": {
      "application/vnd.jupyter.widget-view+json": {
       "model_id": "8a7f7406c44c480bb56819bf36e150d4",
       "version_major": 2,
       "version_minor": 0
      },
      "text/plain": [
       "  0%|          | 0/293 [00:00<?, ?it/s]"
      ]
     },
     "metadata": {},
     "output_type": "display_data"
    }
   ],
   "source": [
    "from tqdm.auto import tqdm\n",
    "import pandas as pd\n",
    "\n",
    "#divide the links in chunks of 500\n",
    "chunks = [links[x:x+500] for x in range(0, len(links), 500)]\n",
    "\n",
    "#loop over chunks, make a csv for each\n",
    "for i, chunk in tqdm(enumerate(chunks), total=len(chunks)):\n",
    "    #check if theses_i.csv already exists, if so, skip\n",
    "    try:\n",
    "        pd.read_csv('data/theses_' + str(i) + '.csv')\n",
    "        continue\n",
    "    except:\n",
    "        pass\n",
    "\n",
    "    theses = pd.DataFrame(columns=['title', 'author', 'date', 'supervisor', 'faculty', 'abstract', 'keywords']) \n",
    "\n",
    "    for link in tqdm(chunk):\n",
    "        thesis = get_details(link)\n",
    "        theses = theses._append(thesis, ignore_index=True)\n",
    "\n",
    "    theses.to_csv('data/theses_' + str(i) + '.csv', index=False)\n",
    "\n",
    "\n"
   ]
  },
  {
   "cell_type": "code",
   "execution_count": 40,
   "metadata": {},
   "outputs": [
    {
     "data": {
      "application/vnd.jupyter.widget-view+json": {
       "model_id": "be6bccd0514240008c3fbf7d124f51cc",
       "version_major": 2,
       "version_minor": 0
      },
      "text/plain": [
       "  0%|          | 0/22 [00:00<?, ?it/s]"
      ]
     },
     "metadata": {},
     "output_type": "display_data"
    }
   ],
   "source": [
    "df_merged = pd.DataFrame(columns=['title', 'author', 'date', 'supervisor', 'faculty', 'abstract', 'keywords'])\n",
    "for i in tqdm(range(len(chunks))):\n",
    "    df = pd.read_csv('data/theses_' + str(i) + '.csv')\n",
    "    df_merged = df_merged._append(df, ignore_index=True)\n",
    "\n",
    "df_merged.to_csv('theses.csv', index=False)"
   ]
  }
 ],
 "metadata": {
  "kernelspec": {
   "display_name": "base",
   "language": "python",
   "name": "python3"
  },
  "language_info": {
   "codemirror_mode": {
    "name": "ipython",
    "version": 3
   },
   "file_extension": ".py",
   "mimetype": "text/x-python",
   "name": "python",
   "nbconvert_exporter": "python",
   "pygments_lexer": "ipython3",
   "version": "3.9.12"
  }
 },
 "nbformat": 4,
 "nbformat_minor": 2
}
