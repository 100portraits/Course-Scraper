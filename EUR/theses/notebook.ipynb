{
 "cells": [
  {
   "cell_type": "code",
   "execution_count": 35,
   "metadata": {},
   "outputs": [
    {
     "name": "stdout",
     "output_type": "stream",
     "text": [
      "10793\n"
     ]
    }
   ],
   "source": [
    "import requests\n",
    "from bs4 import BeautifulSoup\n",
    "from tqdm.auto import tqdm\n",
    "\n",
    "# URL for the POST request\n",
    "url = \"https://thesis.eur.nl/search/query\"\n",
    "\n",
    "# Request headers\n",
    "headers = {\n",
    "    \"Accept\": \"application/json, text/javascript, */*; q=0.01\",\n",
    "    \"Accept-Encoding\": \"gzip, deflate, br\",\n",
    "    \"Accept-Language\": \"en,en-GB;q=0.9\",\n",
    "    \"Cache-Control\": \"no-cache\",\n",
    "    \"Connection\": \"keep-alive\",\n",
    "    \"Content-Type\": \"application/json\",\n",
    "    \"DNT\": \"1\",\n",
    "    \"Host\": \"thesis.eur.nl\",\n",
    "    \"Origin\": \"https://thesis.eur.nl\",\n",
    "    \"Pragma\": \"no-cache\",\n",
    "    \"Referer\": \"https://thesis.eur.nl/\",\n",
    "    \"Sec-Fetch-Dest\": \"empty\",\n",
    "    \"Sec-Fetch-Mode\": \"cors\",\n",
    "    \"Sec-Fetch-Site\": \"same-origin\",\n",
    "    \"User-Agent\": \"Mozilla/5.0 (Windows NT 10.0; Win64; x64) AppleWebKit/537.36 (KHTML, like Gecko) Chrome/120.0.0.0 Safari/537.36\",\n",
    "    \"X-Requested-With\": \"XMLHttpRequest\",\n",
    "    \"sec-ch-ua\": \"\\\"Not_A Brand\\\";v=\\\"8\\\", \\\"Chromium\\\";v=\\\"120\\\", \\\"Google Chrome\\\";v=\\\"120\\\"\",\n",
    "    \"sec-ch-ua-mobile\": \"?0\",\n",
    "    \"sec-ch-ua-platform\": \"\\\"Windows\\\"\"\n",
    "}\n",
    "\n",
    "# Request payload\n",
    "payload = {\n",
    "    \"debug\": {\"setup_took\": 0.003896951675415039},\n",
    "    \"query\": {\n",
    "        \"sort\": \"auto\",\n",
    "        \"facets\": [\n",
    "            {\"title\": \"Type\", \"partOf_start\": 0, \"max_terms\": 100, \"field_id\": \"type\", \"api_only\": False, \"max_display_terms\": 5, \"sort_by\": \"count\", \"sort_order\": \"descending\", \"filters\": [], \"type\": \"default\", \"users_only\": False},\n",
    "            {\"title\": \"Publicly Available\", \"partOf_start\": 0, \"max_terms\": 100, \"field_id\": \"public\", \"api_only\": False, \"max_display_terms\": 5, \"sort_by\": \"term\", \"sort_order\": \"descending\", \"filters\": [], \"type\": \"boolean\", \"users_only\": False},\n",
    "            {\"title\": \"Year\", \"partOf_start\": 0, \"max_terms\": 100, \"field_id\": \"issued_date\", \"api_only\": False, \"max_display_terms\": 10, \"sort_by\": \"term\", \"sort_order\": \"descending\", \"filters\": [], \"type\": \"year\", \"users_only\": False},\n",
    "            {\"title\": \"Affiliation\", \"partOf_start\": 0, \"max_terms\": 100, \"field_id\": \"affiliation_label_partOf\", \"api_only\": False, \"max_display_terms\": 5, \"sort_by\": \"count\", \"sort_order\": \"descending\", \"filters\": [{\"term\": \"Erasmus School of Social and Behavioural Sciences\"}, {\"term\": \"Erasmus School of History, Culture and Communication\"}, {\"term\": \"Erasmus School of Philosophy\"}, {\"term\": \"International Institute of Social Studies\"}, {\"term\": \"Institute for Housing and Urban Development Studies\"}], \"type\": \"partOf\", \"users_only\": False},\n",
    "            {\"title\": \"Series\", \"partOf_start\": 0, \"max_terms\": 100, \"field_id\": \"host_series_label\", \"api_only\": False, \"max_display_terms\": 5, \"sort_by\": \"count\", \"sort_order\": \"descending\", \"filters\": [], \"type\": \"default\", \"users_only\": False}\n",
    "        ],\n",
    "        \"filters\": {\n",
    "            \"values\": [{\"field_id\": \"all\", \"query\": \"\"}],\n",
    "            \"options\": [\n",
    "                {\"field_id\": \"all\", \"title\": \"All Fields\"},\n",
    "                {\"field_id\": \"title\", \"title\": \"Title\"},\n",
    "                {\"field_id\": \"author\", \"title\": \"Author\"},\n",
    "                {\"field_id\": \"affiliation\", \"title\": \"Affiliation\"},\n",
    "                {\"field_id\": \"series\", \"title\": \"Series\"}\n",
    "            ]\n",
    "        },\n",
    "        \"sortings\": [\n",
    "            {\"field\": [{\"field_id\": \"_score\", \"order\": \"descending\"}, {\"field_id\": \"issued_date\", \"order\": \"descending\"}], \"id\": \"score\", \"title\": \"Score / Year\"},\n",
    "            {\"field\": [{\"field_id\": \"title_label\", \"order\": \"ascending\"}], \"id\": \"title\", \"title\": \"Title\"},\n",
    "            {\"field\": [{\"field_id\": \"issued_date\", \"order\": \"descending\"}], \"id\": \"year_desc\", \"title\": \"Year (descending)\"},\n",
    "            {\"field\": [{\"field_id\": \"issued_date\", \"order\": \"ascending\"}], \"id\": \"year_asc\", \"title\": \"Year (ascending)\"}\n",
    "        ]\n",
    "    },\n",
    "    \"citation\": {\n",
    "        \"styles\": [\n",
    "            {\"id\": \"aaa\", \"title\": \"AAA\"},\n",
    "            {\"id\": \"apa\", \"title\": \"APA\"},\n",
    "            {\"id\": \"cell\", \"title\": \"Cell\"},\n",
    "            {\"id\": \"chicago\", \"title\": \"Chicago\"},\n",
    "            {\"id\": \"harvard\", \"title\": \"Harvard\"},\n",
    "            {\"id\": \"ieee\", \"title\": \"IEEE\"},\n",
    "            {\"id\": \"mla\", \"title\": \"MLA\"},\n",
    "            {\"id\": \"nature\", \"title\": \"Nature\"},\n",
    "            {\"id\": \"vancouver\", \"title\": \"Vancouver\"},\n",
    "            {\"id\": \"american-institute-of-physics\", \"title\": \"American-Institute-of-Physics\"},\n",
    "            {\"id\": \"council-of-science-editors\", \"title\": \"Council-of-Science-Editors\"}\n",
    "        ],\n",
    "        \"formats\": [\n",
    "            {\"id\": \"bibtex\", \"title\": \"BibTex\"},\n",
    "            {\"id\": \"endnote\", \"title\": \"Endnote\"},\n",
    "            {\"id\": \"ris\", \"title\": \"RIS\"},\n",
    "            {\"id\": \"csl\", \"title\": \"CSL\"},\n",
    "            {\"id\": \"dois only\", \"title\": \"DOIs only\"}\n",
    "        ]\n",
    "    }\n",
    "}\n",
    "\n",
    "# Making the POST request\n",
    "response = requests.post(url, json=payload, headers=headers)\n",
    "\n",
    "#how many results\n",
    "json = response.json()\n",
    "total = json['query']['total']\n",
    "print(total)"
   ]
  },
  {
   "cell_type": "code",
   "execution_count": 36,
   "metadata": {},
   "outputs": [
    {
     "data": {
      "application/vnd.jupyter.widget-view+json": {
       "model_id": "8633d83331494b489b0ec960b424a9d5",
       "version_major": 2,
       "version_minor": 0
      },
      "text/plain": [
       "  0%|          | 0/1080 [00:00<?, ?it/s]"
      ]
     },
     "metadata": {},
     "output_type": "display_data"
    }
   ],
   "source": [
    "links = []\n",
    "#10 results per page, loop using the payload.query.from parameter to swicth page, and save the url for each hit\n",
    "for i in tqdm(range(0, total, 10)):\n",
    "    payload['query']['from'] = i\n",
    "    response = requests.post(url, json=payload, headers=headers)\n",
    "    json = response.json()\n",
    "    for hit in json['hits']:\n",
    "        links.append(hit['handle'])\n"
   ]
  },
  {
   "cell_type": "code",
   "execution_count": null,
   "metadata": {},
   "outputs": [],
   "source": [
    "#save the links to a file\n",
    "with open('links.txt', 'w') as f:\n",
    "    for item in links:\n",
    "        f.write(\"%s\\n\" % item)"
   ]
  }
 ],
 "metadata": {
  "kernelspec": {
   "display_name": "base",
   "language": "python",
   "name": "python3"
  },
  "language_info": {
   "codemirror_mode": {
    "name": "ipython",
    "version": 3
   },
   "file_extension": ".py",
   "mimetype": "text/x-python",
   "name": "python",
   "nbconvert_exporter": "python",
   "pygments_lexer": "ipython3",
   "version": "3.9.12"
  }
 },
 "nbformat": 4,
 "nbformat_minor": 2
}
