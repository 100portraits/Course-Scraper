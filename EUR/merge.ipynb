{
 "cells": [
  {
   "cell_type": "code",
   "execution_count": 1,
   "metadata": {},
   "outputs": [
    {
     "name": "stdout",
     "output_type": "stream",
     "text": [
      "18616\n"
     ]
    }
   ],
   "source": [
    "#length of course_IDS file\n",
    "with open('course_IDs.txt') as f:\n",
    "    lines = f.readlines()\n",
    "    print(len(lines))"
   ]
  },
  {
   "cell_type": "code",
   "execution_count": 2,
   "metadata": {},
   "outputs": [
    {
     "name": "stdout",
     "output_type": "stream",
     "text": [
      "16\n",
      "388\n",
      "760\n",
      "1132\n",
      "1504\n",
      "1876\n",
      "2248\n",
      "2620\n",
      "2992\n",
      "3364\n",
      "3736\n",
      "4108\n",
      "4480\n",
      "4852\n",
      "5224\n",
      "5596\n",
      "5968\n",
      "6340\n",
      "6712\n",
      "7084\n",
      "7456\n",
      "7828\n",
      "8200\n",
      "8572\n",
      "8944\n",
      "9316\n",
      "9688\n",
      "10060\n",
      "10432\n",
      "10804\n",
      "11176\n",
      "11548\n",
      "11920\n",
      "12292\n",
      "12664\n",
      "13036\n",
      "13408\n",
      "13780\n",
      "14152\n",
      "14524\n",
      "14896\n",
      "15268\n",
      "15640\n",
      "16012\n",
      "16384\n",
      "16756\n",
      "17128\n",
      "17500\n",
      "17872\n",
      "18244\n",
      "18616\n"
     ]
    }
   ],
   "source": [
    "import pandas as pd\n",
    "df_all = pd.DataFrame()\n",
    "for i in range(50, -1, -1):\n",
    "    df = pd.read_csv('course_details_{}.csv'.format(i))\n",
    "    #add to df_all without duplicates\n",
    "    df_all = df_all._append(df, ignore_index=True).drop_duplicates().reset_index(drop=True)\n",
    "    print(len(df_all))"
   ]
  },
  {
   "cell_type": "code",
   "execution_count": null,
   "metadata": {},
   "outputs": [],
   "source": [
    "df_all.to_csv('course_details.csv', index=False)"
   ]
  }
 ],
 "metadata": {
  "kernelspec": {
   "display_name": "base",
   "language": "python",
   "name": "python3"
  },
  "language_info": {
   "codemirror_mode": {
    "name": "ipython",
    "version": 3
   },
   "file_extension": ".py",
   "mimetype": "text/x-python",
   "name": "python",
   "nbconvert_exporter": "python",
   "pygments_lexer": "ipython3",
   "version": "3.9.12"
  }
 },
 "nbformat": 4,
 "nbformat_minor": 2
}
