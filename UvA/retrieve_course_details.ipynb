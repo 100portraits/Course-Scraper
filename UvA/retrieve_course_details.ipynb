{
 "cells": [
  {
   "cell_type": "code",
   "execution_count": 7,
   "metadata": {},
   "outputs": [],
   "source": [
    "import pandas as pd\n",
    "import numpy as np\n",
    "import requests\n",
    "from bs4 import BeautifulSoup\n",
    "from tqdm.notebook import tqdm"
   ]
  },
  {
   "cell_type": "code",
   "execution_count": 8,
   "metadata": {},
   "outputs": [],
   "source": [
    "#set to True to scrape only the first 10 pages, False to scrape all pages\n",
    "testing = True"
   ]
  },
  {
   "cell_type": "code",
   "execution_count": 9,
   "metadata": {},
   "outputs": [],
   "source": [
    "def build_url_list(course_ids_df, year):\n",
    "\n",
    "    course_ids = course_ids_df['0'].tolist()\n",
    "    course_ids = [str(course_id) for course_id in course_ids]\n",
    "    urls = [f'https://studiegids.uva.nl/xmlpages/page/{str(year)}-{str(year+1)}/zoek-vak/vak/{course_id}' for course_id in course_ids]\n",
    "    return urls\n"
   ]
  },
  {
   "cell_type": "code",
   "execution_count": 10,
   "metadata": {},
   "outputs": [],
   "source": [
    "def get_data(soup, year, url):\n",
    "    \n",
    "    #get the container which all the data is in\n",
    "    container = soup.find('article')\n",
    "    \n",
    "    #title\n",
    "    try:\n",
    "        title = container.find('h1').text.strip()\n",
    "    except:\n",
    "        title = None\n",
    "\n",
    "    #get the table with a few values\n",
    "    item_info = soup.find('div', class_='item-info')\n",
    "    rows = item_info.find_all('tr')\n",
    "    \n",
    "    #get language row\n",
    "    language_meta = soup.find(True, string=['Language of instruction', 'Voertaal'])\n",
    "    if language_meta:\n",
    "        language = language_meta.find_next('td').text.strip()\n",
    "    else:\n",
    "        language = None\n",
    "\n",
    "    #get college row\n",
    "    college_meta = soup.find(True, string=['College/graduate', 'Onderwijsinstituut'])\n",
    "    if college_meta:\n",
    "        college = college_meta.find_next('td').text.strip()\n",
    "    else:\n",
    "        college = None\n",
    "        \n",
    "    #get lecturer row\n",
    "    lecturer_meta = soup.find(True, string=['Lecturer(s)', 'Docent(en)'])\n",
    "    if lecturer_meta:\n",
    "        lecturer_container = lecturer_meta.find_next('td')\n",
    "        lecturer_links = lecturer_container.find_all('a')\n",
    "        lecturer_urls = [link['href'] for link in lecturer_links]\n",
    "    else:\n",
    "        lecturer_urls = []\n",
    "\n",
    "    #get part of programme row\n",
    "    part_of_programme_meta = soup.find(True, string=['Is part of', 'Onderdeel van'])\n",
    "    if part_of_programme_meta:\n",
    "        part_of_programme_container = part_of_programme_meta.find_next('td')\n",
    "        part_of_programme_links = part_of_programme_container.find_all('a')\n",
    "        part_of_programme_urls = [link['href'] for link in part_of_programme_links]\n",
    "    else:\n",
    "        part_of_programme_urls = []\n",
    "    \n",
    "    #get the text by finding the element after item-info\n",
    "    text = item_info.find_next_siblings()\n",
    "    text = [t.text.strip() for t in text]\n",
    "    \n",
    "    #build a dictionary with all the data to be added as a row to the dataframe\n",
    "    course_dict = {\n",
    "        'url': url,\n",
    "        'year': year,\n",
    "        'course_title': title, \n",
    "        'language': language, \n",
    "        'college': college, \n",
    "        'lecturers': lecturer_urls, \n",
    "        'programmes': part_of_programme_urls, \n",
    "        'text': text}\n",
    "    \n",
    "    return course_dict\n"
   ]
  },
  {
   "cell_type": "code",
   "execution_count": 11,
   "metadata": {},
   "outputs": [
    {
     "name": "stdout",
     "output_type": "stream",
     "text": [
      "Collecting data for year 2014-2015\n"
     ]
    },
    {
     "data": {
      "application/vnd.jupyter.widget-view+json": {
       "model_id": "c202b8b5b80e4c53927032dff2d8ac5a",
       "version_major": 2,
       "version_minor": 0
      },
      "text/plain": [
       "  0%|          | 0/10 [00:00<?, ?it/s]"
      ]
     },
     "metadata": {},
     "output_type": "display_data"
    },
    {
     "name": "stdout",
     "output_type": "stream",
     "text": [
      "Collecting data for year 2015-2016\n"
     ]
    },
    {
     "data": {
      "application/vnd.jupyter.widget-view+json": {
       "model_id": "870eaa69c1f34c048a384446c9286936",
       "version_major": 2,
       "version_minor": 0
      },
      "text/plain": [
       "  0%|          | 0/10 [00:00<?, ?it/s]"
      ]
     },
     "metadata": {},
     "output_type": "display_data"
    },
    {
     "name": "stdout",
     "output_type": "stream",
     "text": [
      "Collecting data for year 2016-2017\n"
     ]
    },
    {
     "data": {
      "application/vnd.jupyter.widget-view+json": {
       "model_id": "5d5ac93f628a40a0b88d0a49123b6f3c",
       "version_major": 2,
       "version_minor": 0
      },
      "text/plain": [
       "  0%|          | 0/10 [00:00<?, ?it/s]"
      ]
     },
     "metadata": {},
     "output_type": "display_data"
    },
    {
     "name": "stdout",
     "output_type": "stream",
     "text": [
      "Collecting data for year 2017-2018\n"
     ]
    },
    {
     "data": {
      "application/vnd.jupyter.widget-view+json": {
       "model_id": "52d41bfcab58455c94e10ea700b37e8e",
       "version_major": 2,
       "version_minor": 0
      },
      "text/plain": [
       "  0%|          | 0/10 [00:00<?, ?it/s]"
      ]
     },
     "metadata": {},
     "output_type": "display_data"
    },
    {
     "name": "stdout",
     "output_type": "stream",
     "text": [
      "Collecting data for year 2018-2019\n"
     ]
    },
    {
     "data": {
      "application/vnd.jupyter.widget-view+json": {
       "model_id": "1b5a171ba8a84f63a28bbae3b795f558",
       "version_major": 2,
       "version_minor": 0
      },
      "text/plain": [
       "  0%|          | 0/10 [00:00<?, ?it/s]"
      ]
     },
     "metadata": {},
     "output_type": "display_data"
    },
    {
     "name": "stdout",
     "output_type": "stream",
     "text": [
      "Collecting data for year 2019-2020\n"
     ]
    },
    {
     "data": {
      "application/vnd.jupyter.widget-view+json": {
       "model_id": "360c3f676fe3482f8a4c075849f29712",
       "version_major": 2,
       "version_minor": 0
      },
      "text/plain": [
       "  0%|          | 0/10 [00:00<?, ?it/s]"
      ]
     },
     "metadata": {},
     "output_type": "display_data"
    },
    {
     "name": "stdout",
     "output_type": "stream",
     "text": [
      "Collecting data for year 2020-2021\n"
     ]
    },
    {
     "data": {
      "application/vnd.jupyter.widget-view+json": {
       "model_id": "2f8a1da186484f2fae5a1327c37ef19e",
       "version_major": 2,
       "version_minor": 0
      },
      "text/plain": [
       "  0%|          | 0/10 [00:00<?, ?it/s]"
      ]
     },
     "metadata": {},
     "output_type": "display_data"
    },
    {
     "name": "stdout",
     "output_type": "stream",
     "text": [
      "Collecting data for year 2021-2022\n"
     ]
    },
    {
     "data": {
      "application/vnd.jupyter.widget-view+json": {
       "model_id": "db9814bdb5b543c08c748d024fed80c2",
       "version_major": 2,
       "version_minor": 0
      },
      "text/plain": [
       "  0%|          | 0/10 [00:00<?, ?it/s]"
      ]
     },
     "metadata": {},
     "output_type": "display_data"
    },
    {
     "name": "stdout",
     "output_type": "stream",
     "text": [
      "Collecting data for year 2022-2023\n"
     ]
    },
    {
     "data": {
      "application/vnd.jupyter.widget-view+json": {
       "model_id": "87062f6ff22d48f0bbadf87876729a41",
       "version_major": 2,
       "version_minor": 0
      },
      "text/plain": [
       "  0%|          | 0/10 [00:00<?, ?it/s]"
      ]
     },
     "metadata": {},
     "output_type": "display_data"
    },
    {
     "name": "stdout",
     "output_type": "stream",
     "text": [
      "Collecting data for year 2023-2024\n"
     ]
    },
    {
     "data": {
      "application/vnd.jupyter.widget-view+json": {
       "model_id": "556a0bd155424c7dad9084e8be2eb889",
       "version_major": 2,
       "version_minor": 0
      },
      "text/plain": [
       "  0%|          | 0/10 [00:00<?, ?it/s]"
      ]
     },
     "metadata": {},
     "output_type": "display_data"
    }
   ],
   "source": [
    "for year in range(2014, 2024):\n",
    "    df = pd.read_csv('data/course_id/'+ 'course_ids_' + str(year) + '_' + str(year+1) + '.csv')\n",
    "    urls = build_url_list(df, year)\n",
    "    print(\"Collecting data for year \" + str(year) + '-' + str(year+1))\n",
    "\n",
    "    YEAR_COURSE_DETAILS = []\n",
    "    for url in tqdm(urls[:10] if testing else urls):\n",
    "\n",
    "        response = requests.get(url)\n",
    "        soup = BeautifulSoup(response.content, 'html.parser')\n",
    "        data = get_data(soup, year, url)\n",
    "        YEAR_COURSE_DETAILS.append(data)\n",
    "    \n",
    "    df = pd.DataFrame(YEAR_COURSE_DETAILS)\n",
    "    df.to_csv('data/course_details/course_details_' + str(year) + '_' + str(year+1) + '.csv', index=False)"
   ]
  }
 ],
 "metadata": {
  "kernelspec": {
   "display_name": "base",
   "language": "python",
   "name": "python3"
  },
  "language_info": {
   "codemirror_mode": {
    "name": "ipython",
    "version": 3
   },
   "file_extension": ".py",
   "mimetype": "text/x-python",
   "name": "python",
   "nbconvert_exporter": "python",
   "pygments_lexer": "ipython3",
   "version": "3.9.12"
  }
 },
 "nbformat": 4,
 "nbformat_minor": 2
}
