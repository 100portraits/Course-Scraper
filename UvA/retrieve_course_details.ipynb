{
 "cells": [
  {
   "cell_type": "code",
   "execution_count": 1,
   "metadata": {},
   "outputs": [],
   "source": [
    "import pandas as pd\n",
    "import numpy as np\n",
    "import requests\n",
    "from bs4 import BeautifulSoup\n",
    "from tqdm.notebook import tqdm"
   ]
  },
  {
   "cell_type": "code",
   "execution_count": 2,
   "metadata": {},
   "outputs": [],
   "source": [
    "#set to True to scrape only the first 10 pages, False to scrape all pages\n",
    "testing = False"
   ]
  },
  {
   "cell_type": "code",
   "execution_count": 3,
   "metadata": {},
   "outputs": [],
   "source": [
    "def build_url_list(course_ids_df, year):\n",
    "\n",
    "    course_ids = course_ids_df['0'].tolist()\n",
    "    course_ids = [str(course_id) for course_id in course_ids]\n",
    "    urls = [f'https://studiegids.uva.nl/xmlpages/page/{str(year)}-{str(year+1)}/zoek-vak/vak/{course_id}' for course_id in course_ids]\n",
    "    return urls\n"
   ]
  },
  {
   "cell_type": "code",
   "execution_count": 4,
   "metadata": {},
   "outputs": [],
   "source": [
    "def get_data(soup, year, url):\n",
    "    \n",
    "    #get the container which all the data is in\n",
    "    container = soup.find('article')\n",
    "    \n",
    "    #title\n",
    "    try:\n",
    "        title = container.find('h1').text.strip()\n",
    "    except:\n",
    "        title = None\n",
    "\n",
    "    #get the table with a few values\n",
    "    item_info = soup.find('div', class_='item-info')\n",
    "    rows = item_info.find_all('tr')\n",
    "    \n",
    "    #get language row\n",
    "    language_meta = soup.find(True, string=['Language of instruction', 'Voertaal'])\n",
    "    if language_meta:\n",
    "        language = language_meta.find_next('td').text.strip()\n",
    "    else:\n",
    "        language = None\n",
    "\n",
    "    #get college row\n",
    "    college_meta = soup.find(True, string=['College/graduate', 'Onderwijsinstituut'])\n",
    "    if college_meta:\n",
    "        college = college_meta.find_next('td').text.strip()\n",
    "    else:\n",
    "        college = None\n",
    "        \n",
    "    #get lecturer row\n",
    "    lecturer_meta = soup.find(True, string=['Lecturer(s)', 'Docent(en)'])\n",
    "    if lecturer_meta:\n",
    "        \n",
    "        lecturer_container = lecturer_meta.find_next('td')\n",
    "        lecturer_links = lecturer_container.find_all('a')\n",
    "        lecturer_urls = [link['href'] for link in lecturer_links]\n",
    "        \n",
    "        #get lecturer names\n",
    "        lecturer_names = [lecturer_links.text.strip() for lecturer_links in lecturer_links]\n",
    "   \n",
    "    else:\n",
    "        lecturer_urls = []\n",
    "        lecturer_names = []\n",
    "\n",
    "    \n",
    "\n",
    "    #get part of programme row\n",
    "    part_of_programme_meta = soup.find(True, string=['Is part of', 'Onderdeel van'])\n",
    "    if part_of_programme_meta:\n",
    "        part_of_programme_container = part_of_programme_meta.find_next('td')\n",
    "        part_of_programme_links = part_of_programme_container.find_all('a')\n",
    "        part_of_programme_urls = [link['href'] for link in part_of_programme_links]\n",
    "    else:\n",
    "        part_of_programme_urls = []\n",
    "    \n",
    "    #get the text by finding the element after item-info\n",
    "    text = item_info.find_next_siblings()\n",
    "    text = [t.text.strip() for t in text]\n",
    "    \n",
    "    #build a dictionary with all the data to be added as a row to the dataframe\n",
    "    course_dict = {\n",
    "        'url': url,\n",
    "        'year': year,\n",
    "        'course_title': title, \n",
    "        'language': language, \n",
    "        'college': college, \n",
    "        'lecturers_urls': lecturer_urls,\n",
    "        'lecturers': lecturer_names, \n",
    "        'programmes': part_of_programme_urls, \n",
    "        'text': text}\n",
    "    \n",
    "    return course_dict\n"
   ]
  },
  {
   "cell_type": "code",
   "execution_count": 7,
   "metadata": {},
   "outputs": [
    {
     "name": "stdout",
     "output_type": "stream",
     "text": [
      "Collecting data for year 2023-2024\n"
     ]
    },
    {
     "data": {
      "application/vnd.jupyter.widget-view+json": {
       "model_id": "c228b8b5aa1a498d8e2411f0fcae7af7",
       "version_major": 2,
       "version_minor": 0
      },
      "text/plain": [
       "0it [00:00, ?it/s]"
      ]
     },
     "metadata": {},
     "output_type": "display_data"
    }
   ],
   "source": [
    "import concurrent.futures\n",
    "\n",
    "# FILEPATH: /c:/Users/Sahir/Documents/work with alex/UvA/retrieve_course_details.ipynb\n",
    "for year in range(2023, 2024):\n",
    "    course_id_file = 'data/course_id/course_ids_' + str(year) + '_' + str(year+1) + '.csv'\n",
    "    df_ids = pd.read_csv(course_id_file)\n",
    "    urls = build_url_list(df_ids, year)\n",
    "    print(\"Collecting data for year \" + str(year) + '-' + str(year+1))\n",
    "\n",
    "    YEAR_COURSE_DETAILS = []\n",
    "    with concurrent.futures.ThreadPoolExecutor() as executor:\n",
    "        futures = []\n",
    "        for url in (urls[:10] if testing else urls):\n",
    "            futures.append(executor.submit(requests.get, url))\n",
    "        \n",
    "        for future in tqdm(concurrent.futures.as_completed(futures)):\n",
    "            response = future.result()\n",
    "            soup = BeautifulSoup(response.content, 'lxml')\n",
    "            data = get_data(soup, year, url)\n",
    "            YEAR_COURSE_DETAILS.append(data)\n",
    "    \n",
    "    df = pd.DataFrame(YEAR_COURSE_DETAILS)\n",
    "    df.to_csv('data/course_details/course_details_' + str(year) + '_' + str(year+1) + '.csv', index=False)"
   ]
  }
 ],
 "metadata": {
  "kernelspec": {
   "display_name": "base",
   "language": "python",
   "name": "python3"
  },
  "language_info": {
   "codemirror_mode": {
    "name": "ipython",
    "version": 3
   },
   "file_extension": ".py",
   "mimetype": "text/x-python",
   "name": "python",
   "nbconvert_exporter": "python",
   "pygments_lexer": "ipython3",
   "version": "3.9.12"
  }
 },
 "nbformat": 4,
 "nbformat_minor": 2
}
