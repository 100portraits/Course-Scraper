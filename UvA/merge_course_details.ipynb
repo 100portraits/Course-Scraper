{
 "cells": [
  {
   "cell_type": "code",
   "execution_count": 7,
   "metadata": {},
   "outputs": [],
   "source": [
    "import pandas as pd\n",
    "import os"
   ]
  },
  {
   "cell_type": "code",
   "execution_count": 8,
   "metadata": {},
   "outputs": [
    {
     "data": {
      "text/plain": [
       "['course_details_2014_2015.csv',\n",
       " 'course_details_2015_2016.csv',\n",
       " 'course_details_2016_2017.csv',\n",
       " 'course_details_2017_2018.csv',\n",
       " 'course_details_2018_2019.csv',\n",
       " 'course_details_2019_2020.csv',\n",
       " 'course_details_2020_2021.csv',\n",
       " 'course_details_2021_2022.csv',\n",
       " 'course_details_2022_2023.csv',\n",
       " 'course_details_2023_2024.csv']"
      ]
     },
     "execution_count": 8,
     "metadata": {},
     "output_type": "execute_result"
    }
   ],
   "source": [
    "#read all files in data/course_details\n",
    "path = 'data/course_details'\n",
    "files = os.listdir(path)\n",
    "files = [file for file in files if file.endswith('.csv')]\n",
    "files"
   ]
  },
  {
   "cell_type": "code",
   "execution_count": 9,
   "metadata": {},
   "outputs": [],
   "source": [
    "#merge all files into one dataframe\n",
    "df = pd.concat([pd.read_csv(path + '/' + file) for file in files])\n",
    "\n",
    "df.to_csv('data/course_details.csv', index=False)"
   ]
  },
  {
   "cell_type": "code",
   "execution_count": 11,
   "metadata": {},
   "outputs": [],
   "source": [
    "#do the same with IDs\n",
    "path = 'data/course_id'\n",
    "files = os.listdir(path)\n",
    "files = [file for file in files if file.endswith('.csv')]\n",
    "files\n",
    "\n",
    "df = pd.DataFrame()\n",
    "\n",
    "for file in files:\n",
    "    df_temp = pd.read_csv(path + '/' + file)\n",
    "    df = pd.concat([df, df_temp], ignore_index=True)\n",
    "\n",
    "df.to_csv('data/course_ids.csv', index=False)"
   ]
  }
 ],
 "metadata": {
  "kernelspec": {
   "display_name": "base",
   "language": "python",
   "name": "python3"
  },
  "language_info": {
   "codemirror_mode": {
    "name": "ipython",
    "version": 3
   },
   "file_extension": ".py",
   "mimetype": "text/x-python",
   "name": "python",
   "nbconvert_exporter": "python",
   "pygments_lexer": "ipython3",
   "version": "3.9.12"
  }
 },
 "nbformat": 4,
 "nbformat_minor": 2
}
