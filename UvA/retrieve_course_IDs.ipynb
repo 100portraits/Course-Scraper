{
 "cells": [
  {
   "cell_type": "code",
   "execution_count": 13,
   "metadata": {},
   "outputs": [],
   "source": [
    "import pandas as pd\n",
    "import numpy as np\n",
    "from bs4 import BeautifulSoup\n",
    "import requests\n",
    "\n",
    "from selenium import webdriver\n",
    "from selenium.webdriver.common.keys import Keys\n",
    "from selenium.webdriver.common.by import By\n",
    "\n",
    "\n",
    "from selenium.webdriver.support.ui import WebDriverWait\n",
    "from selenium.webdriver.support import expected_conditions as EC\n",
    "\n",
    "import time\n",
    "from tqdm.notebook import trange, tqdm\n"
   ]
  },
  {
   "cell_type": "code",
   "execution_count": 15,
   "metadata": {},
   "outputs": [],
   "source": [
    "def init_webdriver(year):\n",
    "    driver = webdriver.Chrome()\n",
    "\n",
    "    driver.get(f\"https://studiegids.uva.nl/xmlpages/page/{str(year)}-{str(year+1)}/zoek-vak\")\n",
    "    #add cookie\n",
    "    driver.add_cookie({'name': 'uva-sgw-course-search-nl', 'value': 'p_institute:,p_programme:,p_credits:,p_instr_lang:,p_open_course:,p_period_start:,p_fetch_size:10000,p_course_year:,p_page:1,p_search_inside:,p_searchwords:'})\n",
    "    driver.refresh()\n",
    "\n",
    "    print('driver initialized')\n",
    "    #click on the button to show all courses\n",
    "    show_all = driver.find_element(By.CLASS_NAME, 'search-all')\n",
    "    show_all.click()\n",
    "    print('show all clicked, waiting for courses to load')\n",
    "\n",
    "    #wait for the courses to load\n",
    "    wait = WebDriverWait(driver, 10000)\n",
    "    element = wait.until(EC.presence_of_element_located((By.CLASS_NAME, 'result')))\n",
    "\n",
    "    print('courses loaded')\n",
    "    return driver"
   ]
  },
  {
   "cell_type": "code",
   "execution_count": 16,
   "metadata": {},
   "outputs": [],
   "source": [
    "def get_course_ids(soup):\n",
    "    print('getting course id strings')\n",
    "    result_list=soup.find_all('tr', class_='slideout')\n",
    "    \n",
    "    print('extracting course ids')\n",
    "    result_list = [result.find(attrs={\"data-id\": True}) for result in result_list]\n",
    "    result_list = [result['data-id'] for result in result_list]\n",
    "\n",
    "    print('done')\n",
    "    return result_list"
   ]
  },
  {
   "cell_type": "code",
   "execution_count": 17,
   "metadata": {},
   "outputs": [],
   "source": [
    "def get_year(driver):\n",
    "\n",
    "    #scraping\n",
    "    YEAR_COURSE_IDS = []\n",
    "    \n",
    "    print('getting soup')\n",
    "    #get current html\n",
    "    soup = BeautifulSoup(driver.page_source, 'lxml')\n",
    "    print('got soup')\n",
    "    #get course ids\n",
    "\n",
    "    course_ids = get_course_ids(soup)\n",
    "\n",
    "\n",
    "    print(len(course_ids), 'courses scraped')\n",
    "    #add to all course ids list\n",
    "    YEAR_COURSE_IDS.extend(course_ids)\n",
    "\n",
    "    return YEAR_COURSE_IDS"
   ]
  },
  {
   "cell_type": "code",
   "execution_count": 18,
   "metadata": {},
   "outputs": [
    {
     "name": "stdout",
     "output_type": "stream",
     "text": [
      "Starting: 2018-2019\n"
     ]
    },
    {
     "name": "stdout",
     "output_type": "stream",
     "text": [
      "driver initialized\n",
      "show all clicked, waiting for courses to load\n",
      "courses loaded\n",
      "getting soup\n",
      "got soup\n",
      "getting course id strings\n",
      "extracting course ids\n",
      "done\n",
      "4660 courses scraped\n",
      "Starting: 2019-2020\n",
      "driver initialized\n",
      "show all clicked, waiting for courses to load\n",
      "courses loaded\n",
      "getting soup\n",
      "got soup\n",
      "getting course id strings\n",
      "extracting course ids\n",
      "done\n",
      "4723 courses scraped\n",
      "Starting: 2020-2021\n",
      "driver initialized\n",
      "show all clicked, waiting for courses to load\n",
      "courses loaded\n",
      "getting soup\n",
      "got soup\n",
      "getting course id strings\n",
      "extracting course ids\n",
      "done\n",
      "4678 courses scraped\n",
      "Starting: 2021-2022\n",
      "driver initialized\n",
      "show all clicked, waiting for courses to load\n",
      "courses loaded\n",
      "getting soup\n",
      "got soup\n",
      "getting course id strings\n",
      "extracting course ids\n",
      "done\n",
      "4920 courses scraped\n",
      "Starting: 2022-2023\n",
      "driver initialized\n",
      "show all clicked, waiting for courses to load\n",
      "courses loaded\n",
      "getting soup\n",
      "got soup\n",
      "getting course id strings\n",
      "extracting course ids\n",
      "done\n",
      "4962 courses scraped\n",
      "Starting: 2023-2024\n",
      "driver initialized\n",
      "show all clicked, waiting for courses to load\n",
      "courses loaded\n",
      "getting soup\n",
      "got soup\n",
      "getting course id strings\n",
      "extracting course ids\n",
      "done\n",
      "5055 courses scraped\n"
     ]
    }
   ],
   "source": [
    "for year in range(2018, 2024):\n",
    "    print('Starting:',str(year)+'-'+str(year+1))\n",
    "    driver = init_webdriver(year)\n",
    "    YEAR_COURSE_IDS = get_year(driver)\n",
    "    driver.close()\n",
    "    df = pd.DataFrame(YEAR_COURSE_IDS)\n",
    "    df.to_csv(f'data/course_id/course_ids_{str(year)}_{str(year+1)}.csv', index=False)"
   ]
  },
  {
   "cell_type": "code",
   "execution_count": null,
   "metadata": {},
   "outputs": [],
   "source": []
  }
 ],
 "metadata": {
  "kernelspec": {
   "display_name": "base",
   "language": "python",
   "name": "python3"
  },
  "language_info": {
   "codemirror_mode": {
    "name": "ipython",
    "version": 3
   },
   "file_extension": ".py",
   "mimetype": "text/x-python",
   "name": "python",
   "nbconvert_exporter": "python",
   "pygments_lexer": "ipython3",
   "version": "3.9.12"
  }
 },
 "nbformat": 4,
 "nbformat_minor": 2
}
