{
 "cells": [
  {
   "cell_type": "code",
   "execution_count": 1,
   "metadata": {},
   "outputs": [],
   "source": [
    "import pandas as pd\n",
    "import numpy as np\n",
    "from bs4 import BeautifulSoup\n",
    "import requests\n",
    "\n",
    "from selenium import webdriver\n",
    "from selenium.webdriver.common.keys import Keys\n",
    "from selenium.webdriver.common.by import By\n",
    "\n",
    "\n",
    "from selenium.webdriver.support.ui import WebDriverWait\n",
    "from selenium.webdriver.support import expected_conditions as EC\n",
    "\n",
    "import time\n",
    "from tqdm.notebook import trange, tqdm\n"
   ]
  },
  {
   "cell_type": "code",
   "execution_count": 2,
   "metadata": {},
   "outputs": [],
   "source": [
    "#set to True to scrape only the first 3 pages, False to scrape all pages\n",
    "testing = True"
   ]
  },
  {
   "cell_type": "code",
   "execution_count": 3,
   "metadata": {},
   "outputs": [],
   "source": [
    "def get_course_ids(soup):\n",
    "    result_list=soup.find_all('tr', class_='slideout')\n",
    "    result_list = [result.find(attrs={\"data-id\": True}) for result in result_list]\n",
    "    result_list = [result['data-id'] for result in result_list]\n",
    "    return result_list"
   ]
  },
  {
   "cell_type": "code",
   "execution_count": 4,
   "metadata": {},
   "outputs": [],
   "source": [
    "def init_webdriver(year):\n",
    "    driver = webdriver.Chrome()\n",
    "    driver.get(f\"https://studiegids.uva.nl/xmlpages/page/{str(year)}-{str(year+1)}/zoek-vak\")\n",
    "\n",
    "    #click on the button to show all courses\n",
    "    show_all = driver.find_element(By.CLASS_NAME, 'search-all')\n",
    "    show_all.click()\n",
    "\n",
    "    #wait for the courses to load\n",
    "    wait = WebDriverWait(driver, 10)\n",
    "    element = wait.until(EC.presence_of_element_located((By.CLASS_NAME, 'result')))\n",
    "\n",
    "    return driver"
   ]
  },
  {
   "cell_type": "code",
   "execution_count": 5,
   "metadata": {},
   "outputs": [],
   "source": [
    "def get_pages(driver):\n",
    "    soup = BeautifulSoup(driver.page_source, 'html.parser')\n",
    "    num_courses = soup.find('div', class_='compare-bar clearfix').text.strip().split(' ')[0]\n",
    "    num_courses = int(num_courses)\n",
    "    num_pages = num_courses // 20 + 1\n",
    "\n",
    "\n",
    "    return num_pages"
   ]
  },
  {
   "cell_type": "code",
   "execution_count": 6,
   "metadata": {},
   "outputs": [],
   "source": [
    "def get_year(driver):\n",
    "\n",
    "    #number of pages\n",
    "    num_pages = get_pages(driver)\n",
    "    print('Pages to scrape: ', num_pages)\n",
    "\n",
    "    #scraping\n",
    "    YEAR_COURSE_IDS = []\n",
    "    for i in trange(3 if testing else num_pages-1):\n",
    "        \n",
    "        #get current html\n",
    "        soup = BeautifulSoup(driver.page_source, 'html.parser')\n",
    "        course_ids = get_course_ids(soup)\n",
    "\n",
    "        #check if first course id is already in list (didn't wait long enough), if so then wait and soup again\n",
    "        while course_ids[0] in YEAR_COURSE_IDS:\n",
    "            time.sleep(5)\n",
    "            soup = BeautifulSoup(driver.page_source, 'html.parser')\n",
    "            course_ids = get_course_ids(soup)\n",
    "\n",
    "        #add to all course ids list\n",
    "        YEAR_COURSE_IDS.extend(course_ids)\n",
    "    \n",
    "        #next page, wait for element to be clickable\n",
    "        WebDriverWait(driver, 10).until(EC.element_to_be_clickable((By.CLASS_NAME, 'next'))).click()\n",
    "\n",
    "        #wait implicitly\n",
    "        time.sleep(3)\n",
    "    \n",
    "    return YEAR_COURSE_IDS"
   ]
  },
  {
   "cell_type": "code",
   "execution_count": 8,
   "metadata": {},
   "outputs": [
    {
     "name": "stdout",
     "output_type": "stream",
     "text": [
      "Scraping course IDs for year: 2014-2015\n",
      "Pages to scrape:  205\n"
     ]
    },
    {
     "data": {
      "application/vnd.jupyter.widget-view+json": {
       "model_id": "fa4d43a1a8cc453991a86651a2b1256a",
       "version_major": 2,
       "version_minor": 0
      },
      "text/plain": [
       "  0%|          | 0/3 [00:00<?, ?it/s]"
      ]
     },
     "metadata": {},
     "output_type": "display_data"
    },
    {
     "name": "stdout",
     "output_type": "stream",
     "text": [
      "Scraping course IDs for year: 2015-2016\n",
      "Pages to scrape:  211\n"
     ]
    },
    {
     "data": {
      "application/vnd.jupyter.widget-view+json": {
       "model_id": "0ad96132609244a1988ad84a091ff79c",
       "version_major": 2,
       "version_minor": 0
      },
      "text/plain": [
       "  0%|          | 0/3 [00:00<?, ?it/s]"
      ]
     },
     "metadata": {},
     "output_type": "display_data"
    },
    {
     "name": "stdout",
     "output_type": "stream",
     "text": [
      "Scraping course IDs for year: 2016-2017\n",
      "Pages to scrape:  216\n"
     ]
    },
    {
     "data": {
      "application/vnd.jupyter.widget-view+json": {
       "model_id": "d47d8885626c4b5dae22593eaf20b268",
       "version_major": 2,
       "version_minor": 0
      },
      "text/plain": [
       "  0%|          | 0/3 [00:00<?, ?it/s]"
      ]
     },
     "metadata": {},
     "output_type": "display_data"
    },
    {
     "name": "stdout",
     "output_type": "stream",
     "text": [
      "Scraping course IDs for year: 2017-2018\n",
      "Pages to scrape:  221\n"
     ]
    },
    {
     "data": {
      "application/vnd.jupyter.widget-view+json": {
       "model_id": "c3727518eece437591d8cc5a5543469f",
       "version_major": 2,
       "version_minor": 0
      },
      "text/plain": [
       "  0%|          | 0/3 [00:00<?, ?it/s]"
      ]
     },
     "metadata": {},
     "output_type": "display_data"
    },
    {
     "name": "stdout",
     "output_type": "stream",
     "text": [
      "Scraping course IDs for year: 2018-2019\n",
      "Pages to scrape:  234\n"
     ]
    },
    {
     "data": {
      "application/vnd.jupyter.widget-view+json": {
       "model_id": "cca7661b16a6485dae3e32f75eac3453",
       "version_major": 2,
       "version_minor": 0
      },
      "text/plain": [
       "  0%|          | 0/3 [00:00<?, ?it/s]"
      ]
     },
     "metadata": {},
     "output_type": "display_data"
    },
    {
     "name": "stdout",
     "output_type": "stream",
     "text": [
      "Scraping course IDs for year: 2019-2020\n",
      "Pages to scrape:  237\n"
     ]
    },
    {
     "data": {
      "application/vnd.jupyter.widget-view+json": {
       "model_id": "12e8088331ce4dce9e7e6775ca0a5821",
       "version_major": 2,
       "version_minor": 0
      },
      "text/plain": [
       "  0%|          | 0/3 [00:00<?, ?it/s]"
      ]
     },
     "metadata": {},
     "output_type": "display_data"
    },
    {
     "name": "stdout",
     "output_type": "stream",
     "text": [
      "Scraping course IDs for year: 2020-2021\n",
      "Pages to scrape:  234\n"
     ]
    },
    {
     "data": {
      "application/vnd.jupyter.widget-view+json": {
       "model_id": "af7853f7bfbc46cfafa6a8757585c1ae",
       "version_major": 2,
       "version_minor": 0
      },
      "text/plain": [
       "  0%|          | 0/3 [00:00<?, ?it/s]"
      ]
     },
     "metadata": {},
     "output_type": "display_data"
    },
    {
     "name": "stdout",
     "output_type": "stream",
     "text": [
      "Scraping course IDs for year: 2021-2022\n",
      "Pages to scrape:  247\n"
     ]
    },
    {
     "data": {
      "application/vnd.jupyter.widget-view+json": {
       "model_id": "0a0b465752f34722a07c9ea83a3b8889",
       "version_major": 2,
       "version_minor": 0
      },
      "text/plain": [
       "  0%|          | 0/3 [00:00<?, ?it/s]"
      ]
     },
     "metadata": {},
     "output_type": "display_data"
    },
    {
     "name": "stdout",
     "output_type": "stream",
     "text": [
      "Scraping course IDs for year: 2022-2023\n",
      "Pages to scrape:  249\n"
     ]
    },
    {
     "data": {
      "application/vnd.jupyter.widget-view+json": {
       "model_id": "bde44479c71c44b0a7dc5e0797287307",
       "version_major": 2,
       "version_minor": 0
      },
      "text/plain": [
       "  0%|          | 0/3 [00:00<?, ?it/s]"
      ]
     },
     "metadata": {},
     "output_type": "display_data"
    },
    {
     "name": "stdout",
     "output_type": "stream",
     "text": [
      "Scraping course IDs for year: 2023-2024\n",
      "Pages to scrape:  251\n"
     ]
    },
    {
     "data": {
      "application/vnd.jupyter.widget-view+json": {
       "model_id": "23065b86110e40179a877a871e1c80a0",
       "version_major": 2,
       "version_minor": 0
      },
      "text/plain": [
       "  0%|          | 0/3 [00:00<?, ?it/s]"
      ]
     },
     "metadata": {},
     "output_type": "display_data"
    }
   ],
   "source": [
    "#uva has from 2014-2015 onwards, loop through them\n",
    "for year in range(2014, 2024):\n",
    "    print('Scraping course IDs for year:',str(year)+'-'+str(year+1))\n",
    "    driver = init_webdriver(year)\n",
    "    YEAR_COURSE_IDS = get_year(driver)\n",
    "    driver.close()\n",
    "    df = pd.DataFrame(YEAR_COURSE_IDS)\n",
    "    df.to_csv(f'data/course_id/course_ids_{str(year)}_{str(year+1)}.csv', index=False)"
   ]
  }
 ],
 "metadata": {
  "kernelspec": {
   "display_name": "base",
   "language": "python",
   "name": "python3"
  },
  "language_info": {
   "codemirror_mode": {
    "name": "ipython",
    "version": 3
   },
   "file_extension": ".py",
   "mimetype": "text/x-python",
   "name": "python",
   "nbconvert_exporter": "python",
   "pygments_lexer": "ipython3",
   "version": "3.9.12"
  }
 },
 "nbformat": 4,
 "nbformat_minor": 2
}
