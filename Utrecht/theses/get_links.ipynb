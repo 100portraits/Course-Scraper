{
 "cells": [
  {
   "cell_type": "code",
   "execution_count": 4,
   "metadata": {},
   "outputs": [],
   "source": [
    "import requests\n",
    "from bs4 import BeautifulSoup\n",
    "from tqdm.auto import tqdm\n",
    "\n",
    "url = 'https://studenttheses.uu.nl/browse'\n",
    "\n",
    "params = {\n",
    "    'rpp': 100,\n",
    "    'sort_by': 2,\n",
    "    'order': 'ASC',\n",
    "    'etal': -1,\n",
    "    'offset': 0,\n",
    "    'type': 'dateissued'\n",
    "}"
   ]
  },
  {
   "cell_type": "code",
   "execution_count": 5,
   "metadata": {},
   "outputs": [
    {
     "name": "stdout",
     "output_type": "stream",
     "text": [
      "42928 430\n"
     ]
    }
   ],
   "source": [
    "#get number of titles\n",
    "r = requests.get(url, params=params)\n",
    "soup = BeautifulSoup(r.text, 'html.parser')\n",
    "num_titles = int(soup.find('p', class_='pagination-info').text.split()[-1])\n",
    "num_pages = num_titles // 100 + 1 #100 titles per page\n",
    "\n",
    "print(num_titles, num_pages)"
   ]
  },
  {
   "cell_type": "code",
   "execution_count": 9,
   "metadata": {},
   "outputs": [
    {
     "data": {
      "application/vnd.jupyter.widget-view+json": {
       "model_id": "0cdf4ef919f54efc803aab07c7b5b799",
       "version_major": 2,
       "version_minor": 0
      },
      "text/plain": [
       "  0%|          | 0/430 [00:00<?, ?it/s]"
      ]
     },
     "metadata": {},
     "output_type": "display_data"
    }
   ],
   "source": [
    "testing = False\n",
    "#loop through pages\n",
    "links = []\n",
    "for page in tqdm(range(3 if testing else num_pages)):\n",
    "    params['offset'] = page * 100\n",
    "    r = requests.get(url, params=params)\n",
    "    soup = BeautifulSoup(r.text, 'html.parser')\n",
    "    titles = soup.find_all('h4', class_='artifact-title')\n",
    "    links.extend([title.find('a')['href'] for title in titles])\n",
    "\n",
    "#save links to txt\n",
    "with open('links.txt', 'w') as f:\n",
    "    f.write('\\n'.join(links))"
   ]
  },
  {
   "cell_type": "code",
   "execution_count": null,
   "metadata": {},
   "outputs": [],
   "source": []
  }
 ],
 "metadata": {
  "kernelspec": {
   "display_name": "base",
   "language": "python",
   "name": "python3"
  },
  "language_info": {
   "codemirror_mode": {
    "name": "ipython",
    "version": 3
   },
   "file_extension": ".py",
   "mimetype": "text/x-python",
   "name": "python",
   "nbconvert_exporter": "python",
   "pygments_lexer": "ipython3",
   "version": "3.9.12"
  }
 },
 "nbformat": 4,
 "nbformat_minor": 2
}
