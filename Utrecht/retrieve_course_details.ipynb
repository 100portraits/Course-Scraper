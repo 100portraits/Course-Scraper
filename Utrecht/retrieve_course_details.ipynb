{
 "cells": [
  {
   "cell_type": "code",
   "execution_count": 5,
   "metadata": {},
   "outputs": [
    {
     "data": {
      "application/vnd.jupyter.widget-view+json": {
       "model_id": "22e2921987a64c71bdc61a07795ff259",
       "version_major": 2,
       "version_minor": 0
      },
      "text/plain": [
       "Processing Courses in Chunks:   0%|          | 0/51 [00:00<?, ?it/s]"
      ]
     },
     "metadata": {},
     "output_type": "display_data"
    },
    {
     "data": {
      "application/vnd.jupyter.widget-view+json": {
       "model_id": "ccb68b71f2eb45d8bbafebb020250b64",
       "version_major": 2,
       "version_minor": 0
      },
      "text/plain": [
       "Processing Chunk:   0%|          | 0/721 [00:00<?, ?it/s]"
      ]
     },
     "metadata": {},
     "output_type": "display_data"
    },
    {
     "data": {
      "application/vnd.jupyter.widget-view+json": {
       "model_id": "1a476285544448babe730b5729f15ef9",
       "version_major": 2,
       "version_minor": 0
      },
      "text/plain": [
       "Processing Chunk:   0%|          | 0/721 [00:00<?, ?it/s]"
      ]
     },
     "metadata": {},
     "output_type": "display_data"
    },
    {
     "data": {
      "application/vnd.jupyter.widget-view+json": {
       "model_id": "038146653dee48a8b7aa284824ab18e9",
       "version_major": 2,
       "version_minor": 0
      },
      "text/plain": [
       "Processing Chunk:   0%|          | 0/721 [00:00<?, ?it/s]"
      ]
     },
     "metadata": {},
     "output_type": "display_data"
    },
    {
     "data": {
      "application/vnd.jupyter.widget-view+json": {
       "model_id": "d3f7d195230a44739489a3a9a88aba83",
       "version_major": 2,
       "version_minor": 0
      },
      "text/plain": [
       "Processing Chunk:   0%|          | 0/721 [00:00<?, ?it/s]"
      ]
     },
     "metadata": {},
     "output_type": "display_data"
    },
    {
     "data": {
      "application/vnd.jupyter.widget-view+json": {
       "model_id": "ba917d3f94134394b1ea4cd16ad272a9",
       "version_major": 2,
       "version_minor": 0
      },
      "text/plain": [
       "Processing Chunk:   0%|          | 0/721 [00:00<?, ?it/s]"
      ]
     },
     "metadata": {},
     "output_type": "display_data"
    },
    {
     "data": {
      "application/vnd.jupyter.widget-view+json": {
       "model_id": "3561a86a0fe441ff848f01cdfaf24a52",
       "version_major": 2,
       "version_minor": 0
      },
      "text/plain": [
       "Processing Chunk:   0%|          | 0/721 [00:00<?, ?it/s]"
      ]
     },
     "metadata": {},
     "output_type": "display_data"
    },
    {
     "data": {
      "application/vnd.jupyter.widget-view+json": {
       "model_id": "90f139385f894f1a93e3b5b84786c816",
       "version_major": 2,
       "version_minor": 0
      },
      "text/plain": [
       "Processing Chunk:   0%|          | 0/721 [00:00<?, ?it/s]"
      ]
     },
     "metadata": {},
     "output_type": "display_data"
    },
    {
     "data": {
      "application/vnd.jupyter.widget-view+json": {
       "model_id": "c4c45fc01f1d4b06b92bc4ff754e27cf",
       "version_major": 2,
       "version_minor": 0
      },
      "text/plain": [
       "Processing Chunk:   0%|          | 0/721 [00:00<?, ?it/s]"
      ]
     },
     "metadata": {},
     "output_type": "display_data"
    },
    {
     "data": {
      "application/vnd.jupyter.widget-view+json": {
       "model_id": "b389ed2d6d7d436fb5e19ed9642aedca",
       "version_major": 2,
       "version_minor": 0
      },
      "text/plain": [
       "Processing Chunk:   0%|          | 0/721 [00:00<?, ?it/s]"
      ]
     },
     "metadata": {},
     "output_type": "display_data"
    },
    {
     "data": {
      "application/vnd.jupyter.widget-view+json": {
       "model_id": "0482d2bf705d4b2b811fe160e35e37ae",
       "version_major": 2,
       "version_minor": 0
      },
      "text/plain": [
       "Processing Chunk:   0%|          | 0/721 [00:00<?, ?it/s]"
      ]
     },
     "metadata": {},
     "output_type": "display_data"
    },
    {
     "data": {
      "application/vnd.jupyter.widget-view+json": {
       "model_id": "a8021df2478445f5a787eb12ee3c51cd",
       "version_major": 2,
       "version_minor": 0
      },
      "text/plain": [
       "Processing Chunk:   0%|          | 0/721 [00:00<?, ?it/s]"
      ]
     },
     "metadata": {},
     "output_type": "display_data"
    },
    {
     "data": {
      "application/vnd.jupyter.widget-view+json": {
       "model_id": "192f638d7ca2436d9e738695dd59a955",
       "version_major": 2,
       "version_minor": 0
      },
      "text/plain": [
       "Processing Chunk:   0%|          | 0/721 [00:00<?, ?it/s]"
      ]
     },
     "metadata": {},
     "output_type": "display_data"
    },
    {
     "data": {
      "application/vnd.jupyter.widget-view+json": {
       "model_id": "44707cb1f30f4c5cacf7c7f980e2ec6e",
       "version_major": 2,
       "version_minor": 0
      },
      "text/plain": [
       "Processing Chunk:   0%|          | 0/721 [00:00<?, ?it/s]"
      ]
     },
     "metadata": {},
     "output_type": "display_data"
    },
    {
     "data": {
      "application/vnd.jupyter.widget-view+json": {
       "model_id": "eea6ab76daf44474b398a8e429f2fc64",
       "version_major": 2,
       "version_minor": 0
      },
      "text/plain": [
       "Processing Chunk:   0%|          | 0/721 [00:00<?, ?it/s]"
      ]
     },
     "metadata": {},
     "output_type": "display_data"
    },
    {
     "data": {
      "application/vnd.jupyter.widget-view+json": {
       "model_id": "e648e0382414413886d58ff91831d54d",
       "version_major": 2,
       "version_minor": 0
      },
      "text/plain": [
       "Processing Chunk:   0%|          | 0/721 [00:00<?, ?it/s]"
      ]
     },
     "metadata": {},
     "output_type": "display_data"
    },
    {
     "data": {
      "application/vnd.jupyter.widget-view+json": {
       "model_id": "be3c07fc6abe40479c622ce006e9f2d8",
       "version_major": 2,
       "version_minor": 0
      },
      "text/plain": [
       "Processing Chunk:   0%|          | 0/721 [00:00<?, ?it/s]"
      ]
     },
     "metadata": {},
     "output_type": "display_data"
    },
    {
     "data": {
      "application/vnd.jupyter.widget-view+json": {
       "model_id": "6acbaa91d95e457b8cb0c5f733f7dcfc",
       "version_major": 2,
       "version_minor": 0
      },
      "text/plain": [
       "Processing Chunk:   0%|          | 0/721 [00:00<?, ?it/s]"
      ]
     },
     "metadata": {},
     "output_type": "display_data"
    },
    {
     "data": {
      "application/vnd.jupyter.widget-view+json": {
       "model_id": "c1808e78072b42aeb16b3e576229141a",
       "version_major": 2,
       "version_minor": 0
      },
      "text/plain": [
       "Processing Chunk:   0%|          | 0/721 [00:00<?, ?it/s]"
      ]
     },
     "metadata": {},
     "output_type": "display_data"
    },
    {
     "data": {
      "application/vnd.jupyter.widget-view+json": {
       "model_id": "9133dc5b7f864b4cbeb55c75534559aa",
       "version_major": 2,
       "version_minor": 0
      },
      "text/plain": [
       "Processing Chunk:   0%|          | 0/721 [00:00<?, ?it/s]"
      ]
     },
     "metadata": {},
     "output_type": "display_data"
    },
    {
     "data": {
      "application/vnd.jupyter.widget-view+json": {
       "model_id": "021f0112efb64c488e6a93379a71f85c",
       "version_major": 2,
       "version_minor": 0
      },
      "text/plain": [
       "Processing Chunk:   0%|          | 0/721 [00:00<?, ?it/s]"
      ]
     },
     "metadata": {},
     "output_type": "display_data"
    },
    {
     "name": "stdout",
     "output_type": "stream",
     "text": [
      "Error with course ID: 204979\n"
     ]
    },
    {
     "data": {
      "application/vnd.jupyter.widget-view+json": {
       "model_id": "d8d9cc074ad7435188b10ea7a0325a81",
       "version_major": 2,
       "version_minor": 0
      },
      "text/plain": [
       "Processing Chunk:   0%|          | 0/721 [00:00<?, ?it/s]"
      ]
     },
     "metadata": {},
     "output_type": "display_data"
    },
    {
     "data": {
      "application/vnd.jupyter.widget-view+json": {
       "model_id": "02fbf377d88240bdbaeb29a48cdb0a51",
       "version_major": 2,
       "version_minor": 0
      },
      "text/plain": [
       "Processing Chunk:   0%|          | 0/721 [00:00<?, ?it/s]"
      ]
     },
     "metadata": {},
     "output_type": "display_data"
    },
    {
     "data": {
      "application/vnd.jupyter.widget-view+json": {
       "model_id": "126aad73222a405bb11dcb35f9add99b",
       "version_major": 2,
       "version_minor": 0
      },
      "text/plain": [
       "Processing Chunk:   0%|          | 0/721 [00:00<?, ?it/s]"
      ]
     },
     "metadata": {},
     "output_type": "display_data"
    },
    {
     "data": {
      "application/vnd.jupyter.widget-view+json": {
       "model_id": "eba4ea55753542af8915475a3b5a947f",
       "version_major": 2,
       "version_minor": 0
      },
      "text/plain": [
       "Processing Chunk:   0%|          | 0/721 [00:00<?, ?it/s]"
      ]
     },
     "metadata": {},
     "output_type": "display_data"
    },
    {
     "data": {
      "application/vnd.jupyter.widget-view+json": {
       "model_id": "8901f56082684e87a85c291f1cf4d16a",
       "version_major": 2,
       "version_minor": 0
      },
      "text/plain": [
       "Processing Chunk:   0%|          | 0/721 [00:00<?, ?it/s]"
      ]
     },
     "metadata": {},
     "output_type": "display_data"
    },
    {
     "data": {
      "application/vnd.jupyter.widget-view+json": {
       "model_id": "e29a3b7b879b44fa82e3184b58c5355d",
       "version_major": 2,
       "version_minor": 0
      },
      "text/plain": [
       "Processing Chunk:   0%|          | 0/721 [00:00<?, ?it/s]"
      ]
     },
     "metadata": {},
     "output_type": "display_data"
    },
    {
     "name": "stdout",
     "output_type": "stream",
     "text": [
      "Error with course ID: 211554\n"
     ]
    },
    {
     "data": {
      "application/vnd.jupyter.widget-view+json": {
       "model_id": "2ce2fef663fd479eaa5af59d664c2d3f",
       "version_major": 2,
       "version_minor": 0
      },
      "text/plain": [
       "Processing Chunk:   0%|          | 0/721 [00:00<?, ?it/s]"
      ]
     },
     "metadata": {},
     "output_type": "display_data"
    },
    {
     "data": {
      "application/vnd.jupyter.widget-view+json": {
       "model_id": "176f51c45a41456c8b4065d5e3c29ed4",
       "version_major": 2,
       "version_minor": 0
      },
      "text/plain": [
       "Processing Chunk:   0%|          | 0/721 [00:00<?, ?it/s]"
      ]
     },
     "metadata": {},
     "output_type": "display_data"
    },
    {
     "data": {
      "application/vnd.jupyter.widget-view+json": {
       "model_id": "a6cae41a4ffa4e71a37bf173b75b55f0",
       "version_major": 2,
       "version_minor": 0
      },
      "text/plain": [
       "Processing Chunk:   0%|          | 0/721 [00:00<?, ?it/s]"
      ]
     },
     "metadata": {},
     "output_type": "display_data"
    },
    {
     "data": {
      "application/vnd.jupyter.widget-view+json": {
       "model_id": "6a267cd5f42848cfb7723a54325f44da",
       "version_major": 2,
       "version_minor": 0
      },
      "text/plain": [
       "Processing Chunk:   0%|          | 0/721 [00:00<?, ?it/s]"
      ]
     },
     "metadata": {},
     "output_type": "display_data"
    },
    {
     "data": {
      "application/vnd.jupyter.widget-view+json": {
       "model_id": "5882d92dffb84e44b1830bfd911de4e4",
       "version_major": 2,
       "version_minor": 0
      },
      "text/plain": [
       "Processing Chunk:   0%|          | 0/721 [00:00<?, ?it/s]"
      ]
     },
     "metadata": {},
     "output_type": "display_data"
    },
    {
     "data": {
      "application/vnd.jupyter.widget-view+json": {
       "model_id": "7b985dd26dd64d1ea16b3b54993266f5",
       "version_major": 2,
       "version_minor": 0
      },
      "text/plain": [
       "Processing Chunk:   0%|          | 0/721 [00:00<?, ?it/s]"
      ]
     },
     "metadata": {},
     "output_type": "display_data"
    },
    {
     "name": "stdout",
     "output_type": "stream",
     "text": [
      "Error with course ID: 218012\n"
     ]
    },
    {
     "data": {
      "application/vnd.jupyter.widget-view+json": {
       "model_id": "3e461af36d164d38b1b897da1abc85c6",
       "version_major": 2,
       "version_minor": 0
      },
      "text/plain": [
       "Processing Chunk:   0%|          | 0/721 [00:00<?, ?it/s]"
      ]
     },
     "metadata": {},
     "output_type": "display_data"
    },
    {
     "data": {
      "application/vnd.jupyter.widget-view+json": {
       "model_id": "eedc60c2e98446b2bc89bb5243b8d443",
       "version_major": 2,
       "version_minor": 0
      },
      "text/plain": [
       "Processing Chunk:   0%|          | 0/721 [00:00<?, ?it/s]"
      ]
     },
     "metadata": {},
     "output_type": "display_data"
    },
    {
     "data": {
      "application/vnd.jupyter.widget-view+json": {
       "model_id": "540d79d3fc3449cd9f62a14ca93f4629",
       "version_major": 2,
       "version_minor": 0
      },
      "text/plain": [
       "Processing Chunk:   0%|          | 0/721 [00:00<?, ?it/s]"
      ]
     },
     "metadata": {},
     "output_type": "display_data"
    },
    {
     "data": {
      "application/vnd.jupyter.widget-view+json": {
       "model_id": "acc618dedfb4414ea00076149bacb8b4",
       "version_major": 2,
       "version_minor": 0
      },
      "text/plain": [
       "Processing Chunk:   0%|          | 0/721 [00:00<?, ?it/s]"
      ]
     },
     "metadata": {},
     "output_type": "display_data"
    },
    {
     "data": {
      "application/vnd.jupyter.widget-view+json": {
       "model_id": "3aaa36f170a049daa7d5aa3c2b65e16b",
       "version_major": 2,
       "version_minor": 0
      },
      "text/plain": [
       "Processing Chunk:   0%|          | 0/721 [00:00<?, ?it/s]"
      ]
     },
     "metadata": {},
     "output_type": "display_data"
    },
    {
     "data": {
      "application/vnd.jupyter.widget-view+json": {
       "model_id": "f1199611fe854a49867f6bc8bc4ad510",
       "version_major": 2,
       "version_minor": 0
      },
      "text/plain": [
       "Processing Chunk:   0%|          | 0/721 [00:00<?, ?it/s]"
      ]
     },
     "metadata": {},
     "output_type": "display_data"
    },
    {
     "data": {
      "application/vnd.jupyter.widget-view+json": {
       "model_id": "0a9e3dd37a9a4726b2a515b4dd352304",
       "version_major": 2,
       "version_minor": 0
      },
      "text/plain": [
       "Processing Chunk:   0%|          | 0/721 [00:00<?, ?it/s]"
      ]
     },
     "metadata": {},
     "output_type": "display_data"
    },
    {
     "data": {
      "application/vnd.jupyter.widget-view+json": {
       "model_id": "6c6ebec82644445e88efe5f5e93c1d14",
       "version_major": 2,
       "version_minor": 0
      },
      "text/plain": [
       "Processing Chunk:   0%|          | 0/721 [00:00<?, ?it/s]"
      ]
     },
     "metadata": {},
     "output_type": "display_data"
    },
    {
     "data": {
      "application/vnd.jupyter.widget-view+json": {
       "model_id": "79faa757916d418cae4cf7b9bd856146",
       "version_major": 2,
       "version_minor": 0
      },
      "text/plain": [
       "Processing Chunk:   0%|          | 0/721 [00:00<?, ?it/s]"
      ]
     },
     "metadata": {},
     "output_type": "display_data"
    },
    {
     "data": {
      "application/vnd.jupyter.widget-view+json": {
       "model_id": "9099f465163c4679a52ce8c4edcccb6c",
       "version_major": 2,
       "version_minor": 0
      },
      "text/plain": [
       "Processing Chunk:   0%|          | 0/721 [00:00<?, ?it/s]"
      ]
     },
     "metadata": {},
     "output_type": "display_data"
    },
    {
     "data": {
      "application/vnd.jupyter.widget-view+json": {
       "model_id": "dc2ccdaee926477c88d6a6942fed6c3e",
       "version_major": 2,
       "version_minor": 0
      },
      "text/plain": [
       "Processing Chunk:   0%|          | 0/721 [00:00<?, ?it/s]"
      ]
     },
     "metadata": {},
     "output_type": "display_data"
    },
    {
     "data": {
      "application/vnd.jupyter.widget-view+json": {
       "model_id": "a9bbffcd798f48eebe542af25c77bde4",
       "version_major": 2,
       "version_minor": 0
      },
      "text/plain": [
       "Processing Chunk:   0%|          | 0/721 [00:00<?, ?it/s]"
      ]
     },
     "metadata": {},
     "output_type": "display_data"
    },
    {
     "data": {
      "application/vnd.jupyter.widget-view+json": {
       "model_id": "9ca600f8f4fe4f8595196314bd3bd2d9",
       "version_major": 2,
       "version_minor": 0
      },
      "text/plain": [
       "Processing Chunk:   0%|          | 0/721 [00:00<?, ?it/s]"
      ]
     },
     "metadata": {},
     "output_type": "display_data"
    },
    {
     "name": "stdout",
     "output_type": "stream",
     "text": [
      "Error with course ID: 231721\n"
     ]
    },
    {
     "data": {
      "application/vnd.jupyter.widget-view+json": {
       "model_id": "d2dafc93a12348a4860dc70aaed62e21",
       "version_major": 2,
       "version_minor": 0
      },
      "text/plain": [
       "Processing Chunk:   0%|          | 0/721 [00:00<?, ?it/s]"
      ]
     },
     "metadata": {},
     "output_type": "display_data"
    },
    {
     "data": {
      "application/vnd.jupyter.widget-view+json": {
       "model_id": "b907fa599482482d924f9056666b6c84",
       "version_major": 2,
       "version_minor": 0
      },
      "text/plain": [
       "Processing Chunk:   0%|          | 0/721 [00:00<?, ?it/s]"
      ]
     },
     "metadata": {},
     "output_type": "display_data"
    },
    {
     "data": {
      "application/vnd.jupyter.widget-view+json": {
       "model_id": "3294c1507293434cb621ec3f8863e092",
       "version_major": 2,
       "version_minor": 0
      },
      "text/plain": [
       "Processing Chunk:   0%|          | 0/721 [00:00<?, ?it/s]"
      ]
     },
     "metadata": {},
     "output_type": "display_data"
    },
    {
     "data": {
      "application/vnd.jupyter.widget-view+json": {
       "model_id": "a7093d13eab3478e8e84f2574b5a9c2c",
       "version_major": 2,
       "version_minor": 0
      },
      "text/plain": [
       "Processing Chunk:   0%|          | 0/721 [00:00<?, ?it/s]"
      ]
     },
     "metadata": {},
     "output_type": "display_data"
    },
    {
     "data": {
      "application/vnd.jupyter.widget-view+json": {
       "model_id": "f528436236aa4d57a057426a422b2486",
       "version_major": 2,
       "version_minor": 0
      },
      "text/plain": [
       "Processing Chunk:   0%|          | 0/721 [00:00<?, ?it/s]"
      ]
     },
     "metadata": {},
     "output_type": "display_data"
    },
    {
     "data": {
      "application/vnd.jupyter.widget-view+json": {
       "model_id": "d016af70921a40d5a0ade6d597d1afc5",
       "version_major": 2,
       "version_minor": 0
      },
      "text/plain": [
       "Processing Chunk:   0%|          | 0/18 [00:00<?, ?it/s]"
      ]
     },
     "metadata": {},
     "output_type": "display_data"
    },
    {
     "data": {
      "text/html": [
       "<div>\n",
       "<style scoped>\n",
       "    .dataframe tbody tr th:only-of-type {\n",
       "        vertical-align: middle;\n",
       "    }\n",
       "\n",
       "    .dataframe tbody tr th {\n",
       "        vertical-align: top;\n",
       "    }\n",
       "\n",
       "    .dataframe thead th {\n",
       "        text-align: right;\n",
       "    }\n",
       "</style>\n",
       "<table border=\"1\" class=\"dataframe\">\n",
       "  <thead>\n",
       "    <tr style=\"text-align: right;\">\n",
       "      <th></th>\n",
       "      <th>url</th>\n",
       "      <th>year</th>\n",
       "      <th>course_title</th>\n",
       "      <th>language</th>\n",
       "      <th>college</th>\n",
       "      <th>lecturers_urls</th>\n",
       "      <th>lecturers</th>\n",
       "      <th>programmes</th>\n",
       "      <th>text</th>\n",
       "    </tr>\n",
       "  </thead>\n",
       "  <tbody>\n",
       "  </tbody>\n",
       "</table>\n",
       "</div>"
      ],
      "text/plain": [
       "Empty DataFrame\n",
       "Columns: [url, year, course_title, language, college, lecturers_urls, lecturers, programmes, text]\n",
       "Index: []"
      ]
     },
     "execution_count": 5,
     "metadata": {},
     "output_type": "execute_result"
    }
   ],
   "source": [
    "import requests\n",
    "import pandas as pd\n",
    "from tqdm.notebook import tqdm\n",
    "\n",
    "# Define headers\n",
    "headers = {\n",
    "    'Accept': 'application/json, text/plain, */*',\n",
    "    'Accept-Encoding': 'gzip, deflate, br',\n",
    "    'Accept-Language': 'en-US,en;q=0.9,az;q=0.8',\n",
    "    'Authorization': 'undefined undefined',\n",
    "    'Cache-Control': 'no-cache, no-store, must-revalidate, private',\n",
    "    'Client_type': 'web',\n",
    "    'Content-Type': 'application/json',\n",
    "    'Dnt': '1',\n",
    "    'Manifest': '23.46_B253_86778e16',\n",
    "    'Namens_studentnummer': '',\n",
    "    'Pragma': 'no-cache',\n",
    "    'Referer': 'https://osiris-student.uu.nl/onderwijscatalogus/extern/cursus',\n",
    "    'Release_version': '86778e16b9c920e6044e0458fb619ca45ff3300e',\n",
    "    'Sec-Ch-Ua': '\"Google Chrome\";v=\"119\", \"Chromium\";v=\"119\", \"Not?A_Brand\";v=\"24\"',\n",
    "    'Sec-Ch-Ua-Mobile': '?0',\n",
    "    'Sec-Ch-Ua-Platform': '\"Windows\"',\n",
    "    'Sec-Fetch-Dest': 'empty',\n",
    "    'Sec-Fetch-Mode': 'cors',\n",
    "    'Sec-Fetch-Site': 'same-origin',\n",
    "    'Taal': 'EN',\n",
    "    'User-Agent': 'Mozilla/5.0 (Windows NT 10.0; Win64; x64) AppleWebKit/537.36 (KHTML, like Gecko) Chrome/119.0.0.0 Safari/537.36'\n",
    "}\n",
    "\n",
    "# Read course IDs from the file\n",
    "with open('course_IDs.txt', 'r') as file:\n",
    "    course_ids = [line.strip() for line in file]\n",
    "\n",
    "# Initialize df\n",
    "df = pd.DataFrame(columns=['url', 'year', 'course_title', 'language', 'college', 'lecturers_urls', 'lecturers', 'programmes', 'text'])\n",
    "\n",
    "# Define the number of chunks\n",
    "num_chunks = 50\n",
    "chunk_size = len(course_ids) // num_chunks\n",
    "\n",
    "# Loop through course IDs with tqdm for progress bar\n",
    "for i in tqdm(range(0, len(course_ids), chunk_size), desc=\"Processing Courses in Chunks\"):\n",
    "    chunk_ids = course_ids[i:i+chunk_size]\n",
    "    chunk_number = i // chunk_size\n",
    "\n",
    "    #check if file already exists, if so skip\n",
    "    try:\n",
    "        pd.read_csv(f'course_details_{chunk_number}.csv')\n",
    "        continue\n",
    "    except:\n",
    "        pass\n",
    "\n",
    "    for course_id in tqdm(chunk_ids, desc=\"Processing Chunk\"):\n",
    "        url = f\"https://osiris-student.uu.nl/student/osiris/owc/cursussen/{course_id}\"\n",
    "\n",
    "        # Make request with headers\n",
    "        response = requests.get(url, headers=headers)\n",
    "\n",
    "        # make dict\n",
    "        data = response.json(strict=False)\n",
    "\n",
    "        # initialize variables\n",
    "        year = None\n",
    "        course_title = None\n",
    "        language = None\n",
    "        college = None\n",
    "        lecturers_urls = None\n",
    "        lecturers = None\n",
    "        programmes = None\n",
    "        text = None\n",
    "\n",
    "        # Extract information from the response\n",
    "        try:\n",
    "            for r in data['items']:\n",
    "                if r['rubriek'] == 'rubriek-kop':\n",
    "                    year = r['velden'][1]['waarde']\n",
    "                    course_title = r['velden'][3]['waarde']\n",
    "\n",
    "                if r['rubriek'] == 'rubriek-praktische-info':\n",
    "                    language = r['velden'][0]['waarde']['velden'][4]['waarde']\n",
    "\n",
    "                    \n",
    "                if r['rubriek'] == 'rubriek-zoek':\n",
    "                    college = r['velden'][0]['waarde']\n",
    "\n",
    "                if r['rubriek'] == 'rubriek-docenten':\n",
    "                    lecturers = []\n",
    "                    lecturers_c = r['velden'][0]['waarde']\n",
    "                    for l in lecturers_c:\n",
    "                        try:\n",
    "                            if l['omschrijving'] == 'Lecturer':\n",
    "                                d = l['velden']\n",
    "                                for i in d:\n",
    "                                    lecturers.append(i['docent'])\n",
    "                        except:\n",
    "                            pass\n",
    "\n",
    "                if r['rubriek'] == 'rubriek-inhoud':\n",
    "                    text = \"\"\n",
    "                    for i in r['velden']:\n",
    "                        text += i['titel']\n",
    "                        text += \"\\n\"\n",
    "                        text += i['waarde']\n",
    "                        text += \"\\n\"\n",
    "        except:\n",
    "            print(f\"Error with course ID: {course_id}\")\n",
    "            pass\n",
    "\n",
    "        data_dict = {\n",
    "            'url': url,\n",
    "            'year': year,\n",
    "            'course_title': course_title,\n",
    "            'language': language,\n",
    "            'college': college,\n",
    "            'lecturers_urls': lecturers_urls,\n",
    "            'lecturers': lecturers,\n",
    "            'programmes': programmes,\n",
    "            'text': text\n",
    "        }\n",
    "\n",
    "        # Add dict to df\n",
    "        df = df._append(data_dict, ignore_index=True)\n",
    "\n",
    "    # Save the dataframe to a CSV file after processing each chunk\n",
    "    df.to_csv(f'course_details_{chunk_number}.csv', index=False)\n",
    "\n",
    "    # Clear the dataframe for the next chunk\n",
    "    df = pd.DataFrame(columns=['url', 'year', 'course_title', 'language', 'college', 'lecturers_urls', 'lecturers', 'programmes', 'text'])\n",
    "\n",
    "df\n"
   ]
  },
  {
   "cell_type": "code",
   "execution_count": 2,
   "metadata": {},
   "outputs": [
    {
     "data": {
      "text/html": [
       "<div>\n",
       "<style scoped>\n",
       "    .dataframe tbody tr th:only-of-type {\n",
       "        vertical-align: middle;\n",
       "    }\n",
       "\n",
       "    .dataframe tbody tr th {\n",
       "        vertical-align: top;\n",
       "    }\n",
       "\n",
       "    .dataframe thead th {\n",
       "        text-align: right;\n",
       "    }\n",
       "</style>\n",
       "<table border=\"1\" class=\"dataframe\">\n",
       "  <thead>\n",
       "    <tr style=\"text-align: right;\">\n",
       "      <th></th>\n",
       "      <th>url</th>\n",
       "      <th>year</th>\n",
       "      <th>course_title</th>\n",
       "      <th>language</th>\n",
       "      <th>college</th>\n",
       "      <th>lecturers_urls</th>\n",
       "      <th>lecturers</th>\n",
       "      <th>programmes</th>\n",
       "      <th>text</th>\n",
       "    </tr>\n",
       "  </thead>\n",
       "  <tbody>\n",
       "    <tr>\n",
       "      <th>0</th>\n",
       "      <td>https://osiris-student.uu.nl/student/osiris/ow...</td>\n",
       "      <td>2016</td>\n",
       "      <td>Researching Intersectionally II</td>\n",
       "      <td>MCRMV16054</td>\n",
       "      <td>Faculty of Humanities</td>\n",
       "      <td>NaN</td>\n",
       "      <td>['dr. C.L. Quinan']</td>\n",
       "      <td>NaN</td>\n",
       "      <td>Course goals\\n&lt;html&gt;\\n\\t&lt;head&gt;\\n&lt;meta http-equ...</td>\n",
       "    </tr>\n",
       "    <tr>\n",
       "      <th>1</th>\n",
       "      <td>https://osiris-student.uu.nl/student/osiris/ow...</td>\n",
       "      <td>2016</td>\n",
       "      <td>\"Seeing Like a State\": The Invention of Statis...</td>\n",
       "      <td>GE3V14039</td>\n",
       "      <td>Faculty of Humanities</td>\n",
       "      <td>NaN</td>\n",
       "      <td>['dr. R.A. Krol']</td>\n",
       "      <td>NaN</td>\n",
       "      <td>Course goals\\n&lt;html&gt;\\n&lt;head&gt;\\n&lt;meta http-equiv...</td>\n",
       "    </tr>\n",
       "    <tr>\n",
       "      <th>2</th>\n",
       "      <td>https://osiris-student.uu.nl/student/osiris/ow...</td>\n",
       "      <td>2016</td>\n",
       "      <td>The Western Way of War: War and Identity in Eu...</td>\n",
       "      <td>GE3V14021</td>\n",
       "      <td>Faculty of Humanities</td>\n",
       "      <td>NaN</td>\n",
       "      <td>['dr. R. Strootman']</td>\n",
       "      <td>NaN</td>\n",
       "      <td>Course goals\\n&lt;html&gt;\\n\\t&lt;head&gt;&lt;style type=\"tex...</td>\n",
       "    </tr>\n",
       "    <tr>\n",
       "      <th>3</th>\n",
       "      <td>https://osiris-student.uu.nl/student/osiris/ow...</td>\n",
       "      <td>2016</td>\n",
       "      <td>'Heritage': Dynamics of Collections</td>\n",
       "      <td>UCHUMHAR32</td>\n",
       "      <td>University College Utrecht</td>\n",
       "      <td>NaN</td>\n",
       "      <td>['dr. G.J. Vroege', 'dr. M.R. Bouquet', 'dr. T...</td>\n",
       "      <td>NaN</td>\n",
       "      <td>Course goals\\n&lt;html&gt;\\n\\t&lt;head&gt;&lt;style type=\"tex...</td>\n",
       "    </tr>\n",
       "    <tr>\n",
       "      <th>4</th>\n",
       "      <td>https://osiris-student.uu.nl/student/osiris/ow...</td>\n",
       "      <td>2016</td>\n",
       "      <td>(In)tangible Heritage and Identity</td>\n",
       "      <td>GKMVD16009</td>\n",
       "      <td>Faculty of Humanities</td>\n",
       "      <td>NaN</td>\n",
       "      <td>['dr. G.F.J. Plets']</td>\n",
       "      <td>NaN</td>\n",
       "      <td>Course goals\\n&lt;html&gt;\\n\\t&lt;head&gt;\\n&lt;meta http-equ...</td>\n",
       "    </tr>\n",
       "    <tr>\n",
       "      <th>...</th>\n",
       "      <td>...</td>\n",
       "      <td>...</td>\n",
       "      <td>...</td>\n",
       "      <td>...</td>\n",
       "      <td>...</td>\n",
       "      <td>...</td>\n",
       "      <td>...</td>\n",
       "      <td>...</td>\n",
       "      <td>...</td>\n",
       "    </tr>\n",
       "    <tr>\n",
       "      <th>716</th>\n",
       "      <td>https://osiris-student.uu.nl/student/osiris/ow...</td>\n",
       "      <td>2016</td>\n",
       "      <td>Consultancy Project Sustainable Business and I...</td>\n",
       "      <td>GEO4-2605</td>\n",
       "      <td>Faculty of Geosciences</td>\n",
       "      <td>NaN</td>\n",
       "      <td>['dr. ir. S. Witjes']</td>\n",
       "      <td>NaN</td>\n",
       "      <td>Course goals\\n&lt;html&gt;\\n\\t&lt;head&gt;&lt;style type=\"tex...</td>\n",
       "    </tr>\n",
       "    <tr>\n",
       "      <th>717</th>\n",
       "      <td>https://osiris-student.uu.nl/student/osiris/ow...</td>\n",
       "      <td>2016</td>\n",
       "      <td>Consumer Law and Regulation</td>\n",
       "      <td>ECB3CLR</td>\n",
       "      <td>Faculty of Law, Economics and Governance</td>\n",
       "      <td>NaN</td>\n",
       "      <td>['dr. J.M. Milo']</td>\n",
       "      <td>NaN</td>\n",
       "      <td>Content\\n&lt;html&gt;\\n&lt;head&gt;\\n&lt;meta http-equiv=\"con...</td>\n",
       "    </tr>\n",
       "    <tr>\n",
       "      <th>718</th>\n",
       "      <td>https://osiris-student.uu.nl/student/osiris/ow...</td>\n",
       "      <td>2016</td>\n",
       "      <td>Contemporary Cultural Theory</td>\n",
       "      <td>MCRMV16024</td>\n",
       "      <td>Faculty of Humanities</td>\n",
       "      <td>NaN</td>\n",
       "      <td>['dr. K. Thiele']</td>\n",
       "      <td>NaN</td>\n",
       "      <td>Course goals\\n&lt;html&gt;\\n\\t&lt;head&gt;\\n&lt;meta http-equ...</td>\n",
       "    </tr>\n",
       "    <tr>\n",
       "      <th>719</th>\n",
       "      <td>https://osiris-student.uu.nl/student/osiris/ow...</td>\n",
       "      <td>2016</td>\n",
       "      <td>Contemporary Economics in Historical Perspective</td>\n",
       "      <td>ECB2GED</td>\n",
       "      <td>Faculty of Law, Economics and Governance</td>\n",
       "      <td>NaN</td>\n",
       "      <td>['dr. ir. M.J. Boumans']</td>\n",
       "      <td>NaN</td>\n",
       "      <td>Content\\n&lt;html&gt;\\n\\t&lt;head&gt;\\n&lt;meta http-equiv=\"c...</td>\n",
       "    </tr>\n",
       "    <tr>\n",
       "      <th>720</th>\n",
       "      <td>https://osiris-student.uu.nl/student/osiris/ow...</td>\n",
       "      <td>2016</td>\n",
       "      <td>Contemporary Feminist Debates</td>\n",
       "      <td>MCRMV16017</td>\n",
       "      <td>Faculty of Humanities</td>\n",
       "      <td>NaN</td>\n",
       "      <td>['dr. S. Koevoets', 'L. Ftouni']</td>\n",
       "      <td>NaN</td>\n",
       "      <td>Course goals\\n&lt;html&gt;\\n\\t&lt;head&gt;\\n&lt;meta http-equ...</td>\n",
       "    </tr>\n",
       "  </tbody>\n",
       "</table>\n",
       "<p>721 rows × 9 columns</p>\n",
       "</div>"
      ],
      "text/plain": [
       "                                                   url  year  \\\n",
       "0    https://osiris-student.uu.nl/student/osiris/ow...  2016   \n",
       "1    https://osiris-student.uu.nl/student/osiris/ow...  2016   \n",
       "2    https://osiris-student.uu.nl/student/osiris/ow...  2016   \n",
       "3    https://osiris-student.uu.nl/student/osiris/ow...  2016   \n",
       "4    https://osiris-student.uu.nl/student/osiris/ow...  2016   \n",
       "..                                                 ...   ...   \n",
       "716  https://osiris-student.uu.nl/student/osiris/ow...  2016   \n",
       "717  https://osiris-student.uu.nl/student/osiris/ow...  2016   \n",
       "718  https://osiris-student.uu.nl/student/osiris/ow...  2016   \n",
       "719  https://osiris-student.uu.nl/student/osiris/ow...  2016   \n",
       "720  https://osiris-student.uu.nl/student/osiris/ow...  2016   \n",
       "\n",
       "                                          course_title    language  \\\n",
       "0                      Researching Intersectionally II  MCRMV16054   \n",
       "1    \"Seeing Like a State\": The Invention of Statis...   GE3V14039   \n",
       "2    The Western Way of War: War and Identity in Eu...   GE3V14021   \n",
       "3                  'Heritage': Dynamics of Collections  UCHUMHAR32   \n",
       "4                   (In)tangible Heritage and Identity  GKMVD16009   \n",
       "..                                                 ...         ...   \n",
       "716  Consultancy Project Sustainable Business and I...   GEO4-2605   \n",
       "717                        Consumer Law and Regulation     ECB3CLR   \n",
       "718                       Contemporary Cultural Theory  MCRMV16024   \n",
       "719   Contemporary Economics in Historical Perspective     ECB2GED   \n",
       "720                      Contemporary Feminist Debates  MCRMV16017   \n",
       "\n",
       "                                      college  lecturers_urls  \\\n",
       "0                       Faculty of Humanities             NaN   \n",
       "1                       Faculty of Humanities             NaN   \n",
       "2                       Faculty of Humanities             NaN   \n",
       "3                  University College Utrecht             NaN   \n",
       "4                       Faculty of Humanities             NaN   \n",
       "..                                        ...             ...   \n",
       "716                    Faculty of Geosciences             NaN   \n",
       "717  Faculty of Law, Economics and Governance             NaN   \n",
       "718                     Faculty of Humanities             NaN   \n",
       "719  Faculty of Law, Economics and Governance             NaN   \n",
       "720                     Faculty of Humanities             NaN   \n",
       "\n",
       "                                             lecturers  programmes  \\\n",
       "0                                  ['dr. C.L. Quinan']         NaN   \n",
       "1                                    ['dr. R.A. Krol']         NaN   \n",
       "2                                 ['dr. R. Strootman']         NaN   \n",
       "3    ['dr. G.J. Vroege', 'dr. M.R. Bouquet', 'dr. T...         NaN   \n",
       "4                                 ['dr. G.F.J. Plets']         NaN   \n",
       "..                                                 ...         ...   \n",
       "716                              ['dr. ir. S. Witjes']         NaN   \n",
       "717                                  ['dr. J.M. Milo']         NaN   \n",
       "718                                  ['dr. K. Thiele']         NaN   \n",
       "719                           ['dr. ir. M.J. Boumans']         NaN   \n",
       "720                   ['dr. S. Koevoets', 'L. Ftouni']         NaN   \n",
       "\n",
       "                                                  text  \n",
       "0    Course goals\\n<html>\\n\\t<head>\\n<meta http-equ...  \n",
       "1    Course goals\\n<html>\\n<head>\\n<meta http-equiv...  \n",
       "2    Course goals\\n<html>\\n\\t<head><style type=\"tex...  \n",
       "3    Course goals\\n<html>\\n\\t<head><style type=\"tex...  \n",
       "4    Course goals\\n<html>\\n\\t<head>\\n<meta http-equ...  \n",
       "..                                                 ...  \n",
       "716  Course goals\\n<html>\\n\\t<head><style type=\"tex...  \n",
       "717  Content\\n<html>\\n<head>\\n<meta http-equiv=\"con...  \n",
       "718  Course goals\\n<html>\\n\\t<head>\\n<meta http-equ...  \n",
       "719  Content\\n<html>\\n\\t<head>\\n<meta http-equiv=\"c...  \n",
       "720  Course goals\\n<html>\\n\\t<head>\\n<meta http-equ...  \n",
       "\n",
       "[721 rows x 9 columns]"
      ]
     },
     "execution_count": 2,
     "metadata": {},
     "output_type": "execute_result"
    }
   ],
   "source": [
    "import pandas as pd\n",
    "df = pd.read_csv('course_details_0.csv')\n",
    "df"
   ]
  }
 ],
 "metadata": {
  "kernelspec": {
   "display_name": "base",
   "language": "python",
   "name": "python3"
  },
  "language_info": {
   "codemirror_mode": {
    "name": "ipython",
    "version": 3
   },
   "file_extension": ".py",
   "mimetype": "text/x-python",
   "name": "python",
   "nbconvert_exporter": "python",
   "pygments_lexer": "ipython3",
   "version": "3.9.12"
  }
 },
 "nbformat": 4,
 "nbformat_minor": 2
}
