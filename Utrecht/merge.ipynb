{
 "cells": [
  {
   "cell_type": "code",
   "execution_count": 1,
   "metadata": {},
   "outputs": [
    {
     "name": "stdout",
     "output_type": "stream",
     "text": [
      "36068\n"
     ]
    }
   ],
   "source": [
    "#length of course_IDS file\n",
    "with open('course_IDs.txt') as f:\n",
    "    lines = f.readlines()\n",
    "    print(len(lines))"
   ]
  },
  {
   "cell_type": "code",
   "execution_count": 2,
   "metadata": {},
   "outputs": [
    {
     "name": "stdout",
     "output_type": "stream",
     "text": [
      "18\n",
      "739\n",
      "1460\n",
      "2181\n",
      "2902\n",
      "3623\n",
      "4344\n",
      "5065\n",
      "5786\n",
      "6507\n",
      "7228\n",
      "7949\n",
      "8670\n",
      "9391\n",
      "10112\n",
      "10833\n",
      "11554\n",
      "12275\n",
      "12996\n",
      "13717\n",
      "14438\n",
      "15159\n",
      "15880\n",
      "16601\n",
      "17322\n",
      "18043\n",
      "18764\n",
      "19485\n",
      "20206\n",
      "20927\n",
      "21648\n",
      "22369\n",
      "23090\n",
      "23811\n",
      "24532\n",
      "25253\n",
      "25974\n",
      "26695\n",
      "27416\n",
      "28137\n",
      "28858\n",
      "29579\n",
      "30300\n",
      "31021\n",
      "31742\n",
      "32463\n",
      "33184\n",
      "33905\n",
      "34626\n",
      "35347\n",
      "36068\n"
     ]
    }
   ],
   "source": [
    "import pandas as pd\n",
    "df_all = pd.DataFrame()\n",
    "for i in range(50, -1, -1):\n",
    "    df = pd.read_csv('course_details_{}.csv'.format(i))\n",
    "    #add to df_all without duplicates\n",
    "    df_all = df_all._append(df, ignore_index=True).drop_duplicates().reset_index(drop=True)\n",
    "    print(len(df_all))"
   ]
  },
  {
   "cell_type": "code",
   "execution_count": null,
   "metadata": {},
   "outputs": [],
   "source": [
    "df_all.to_csv('course_details.csv', index=False)"
   ]
  }
 ],
 "metadata": {
  "kernelspec": {
   "display_name": "base",
   "language": "python",
   "name": "python3"
  },
  "language_info": {
   "codemirror_mode": {
    "name": "ipython",
    "version": 3
   },
   "file_extension": ".py",
   "mimetype": "text/x-python",
   "name": "python",
   "nbconvert_exporter": "python",
   "pygments_lexer": "ipython3",
   "version": "3.9.12"
  }
 },
 "nbformat": 4,
 "nbformat_minor": 2
}
